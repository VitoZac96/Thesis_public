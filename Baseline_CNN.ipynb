{
  "nbformat": 4,
  "nbformat_minor": 0,
  "metadata": {
    "accelerator": "GPU",
    "colab": {
      "name": "Baseline_CNN.ipynb",
      "provenance": [],
      "collapsed_sections": [],
      "authorship_tag": "ABX9TyOJL8UzUQpZieYCE+LMqAGf",
      "include_colab_link": true
    },
    "kernelspec": {
      "display_name": "Python 3",
      "name": "python3"
    },
    "language_info": {
      "name": "python"
    }
  },
  "cells": [
    {
      "cell_type": "markdown",
      "metadata": {
        "id": "view-in-github",
        "colab_type": "text"
      },
      "source": [
        "<a href=\"https://colab.research.google.com/github/VitoZac96/Thesis_public/blob/main/Baseline_CNN.ipynb\" target=\"_parent\"><img src=\"https://colab.research.google.com/assets/colab-badge.svg\" alt=\"Open In Colab\"/></a>"
      ]
    },
    {
      "cell_type": "markdown",
      "metadata": {
        "id": "ZajFZdhPduhA"
      },
      "source": [
        "# Baseline Model: CNN replicata dal paper: Time Series Classification from Scratch with Deep Neural Networks: A Strong Baseline\n",
        "\n",
        "https://arxiv.org/abs/1611.06455 "
      ]
    },
    {
      "cell_type": "markdown",
      "metadata": {
        "id": "qz8DN_M1d3lj"
      },
      "source": [
        "Installare pacchetti per scaricare la timeseries dei prezzi dell'indice S&P500"
      ]
    },
    {
      "cell_type": "code",
      "metadata": {
        "id": "mZfNwpHlc5Hi"
      },
      "source": [
        "!pip install yfinance\n",
        "!pip install yahoofinancials"
      ],
      "execution_count": null,
      "outputs": []
    },
    {
      "cell_type": "code",
      "metadata": {
        "id": "XwTCtl06dAxU"
      },
      "source": [
        "import yfinance as yf\n",
        "from yahoofinancials import YahooFinancials\n",
        "from tensorflow import keras\n",
        "from sklearn.model_selection import train_test_split\n",
        "import numpy as np\n",
        "import pandas as pd\n",
        "from keras.layers import Dropout\n",
        "import matplotlib.pyplot as plt\n",
        "from matplotlib.pyplot import figure\n",
        "from keras.callbacks import EarlyStopping"
      ],
      "execution_count": 84,
      "outputs": []
    },
    {
      "cell_type": "markdown",
      "metadata": {
        "id": "OfFVOekzeDon"
      },
      "source": [
        "Funzione per creare gli input: le features che saranno usate nella CNN sono gli \"n_steps\" ritorni passati. "
      ]
    },
    {
      "cell_type": "code",
      "metadata": {
        "id": "D4Ha5_H9dGRM"
      },
      "source": [
        "# split a univariate sequence into samples\n",
        "def split_sequence(sequence, n_steps):\n",
        "\tX, y = list(), list()\n",
        "\tfor i in range(len(sequence)):\n",
        "\t\t# find the end of this pattern\n",
        "\t\tend_ix = i + n_steps\n",
        "\t\t# check if we are beyond the sequence\n",
        "\t\tif end_ix > len(sequence)-1:\n",
        "\t\t\tbreak\n",
        "\t\t# gather input and output parts of the pattern\n",
        "\t\tseq_x, seq_y = sequence[i:end_ix], sequence[end_ix]\n",
        "\t\tX.append(seq_x)\n",
        "\t\ty.append(seq_y)\n",
        "\treturn np.array(X), np.array(y)"
      ],
      "execution_count": 4,
      "outputs": []
    },
    {
      "cell_type": "markdown",
      "metadata": {
        "id": "eyhpycLxetq7"
      },
      "source": [
        "Download the data, select only the closing price and compute the daily percentage change. "
      ]
    },
    {
      "cell_type": "code",
      "metadata": {
        "id": "pBRmn5PAdLeo"
      },
      "source": [
        "spx = yf.download('^GSPC', \n",
        "                      start='2008-01-01',    #'2015-07-07'\n",
        "                      end='2021-04-01', \n",
        "                      progress=False)\n",
        "spx = spx[\"Adj Close\"].pct_change()[1:]"
      ],
      "execution_count": 202,
      "outputs": []
    },
    {
      "cell_type": "markdown",
      "metadata": {
        "id": "pQbqyERZe5D3"
      },
      "source": [
        "Creare x e y"
      ]
    },
    {
      "cell_type": "code",
      "metadata": {
        "id": "ygHeIw9CdR9R"
      },
      "source": [
        "x, y = split_sequence(spx,2)"
      ],
      "execution_count": 203,
      "outputs": []
    },
    {
      "cell_type": "markdown",
      "metadata": {
        "id": "TaUUm2__fCZv"
      },
      "source": [
        "Encoding per il classifier: se il ritorno di domani > 0: valore 1; 0 viceversa."
      ]
    },
    {
      "cell_type": "code",
      "metadata": {
        "id": "PbI2NYZ1dU0_"
      },
      "source": [
        "encoded = []\n",
        "for i in y:\n",
        "  if i>0:\n",
        "    encoded.append(1)\n",
        "  else:\n",
        "    encoded.append(0)\n",
        "\n",
        "y_target = pd.DataFrame(encoded).to_numpy()"
      ],
      "execution_count": 204,
      "outputs": []
    },
    {
      "cell_type": "markdown",
      "metadata": {
        "id": "1lth99L8fLos"
      },
      "source": [
        "Train test split e one hot encoding per il classifier"
      ]
    },
    {
      "cell_type": "code",
      "metadata": {
        "id": "n9QW7jpHdXsq"
      },
      "source": [
        "x_train, x_test, y_train, y_test_val = train_test_split(x, y_target, test_size=0.30, random_state=1)\n",
        "\n",
        "y_train = keras.utils.to_categorical(y_train, 2)\n",
        "y_test = keras.utils.to_categorical(y_test_val, 2)"
      ],
      "execution_count": 205,
      "outputs": []
    },
    {
      "cell_type": "markdown",
      "metadata": {
        "id": "ZGYlPDAxfjGm"
      },
      "source": [
        "Normalizzazione replicata dal paper"
      ]
    },
    {
      "cell_type": "code",
      "metadata": {
        "id": "8yo4WAewdae4"
      },
      "source": [
        "x_train_mean = x_train.mean()\n",
        "x_train_std = x_train.std()\n",
        "x_train = (x_train - x_train_mean)/(x_train_std)"
      ],
      "execution_count": 206,
      "outputs": []
    },
    {
      "cell_type": "code",
      "metadata": {
        "id": "B7C5D0VIddNX"
      },
      "source": [
        "x_test = (x_test - x_train_mean)/(x_train_std)    #### Perché non con media e std di se stesso?????\n",
        "\n",
        "x_train = x_train.reshape(x_train.shape + (1,1,))\n",
        "x_test = x_test.reshape(x_test.shape + (1,1,))"
      ],
      "execution_count": 207,
      "outputs": []
    },
    {
      "cell_type": "markdown",
      "metadata": {
        "id": "sr3p8F_ifs6-"
      },
      "source": [
        "Modello replicato dal Paper"
      ]
    },
    {
      "cell_type": "code",
      "metadata": {
        "id": "Yn4vZRRd9eh6"
      },
      "source": [
        "from keras.models import Sequential\n",
        "model = Sequential()\n"
      ],
      "execution_count": 208,
      "outputs": []
    },
    {
      "cell_type": "code",
      "metadata": {
        "colab": {
          "base_uri": "https://localhost:8080/"
        },
        "id": "aIkMTbD5dhzx",
        "outputId": "c0979749-ef57-466c-f3aa-b4c5aa2d80e2"
      },
      "source": [
        "x = keras.layers.Input(x_train.shape[1:])\n",
        "drop_out = Dropout(0.2)(x)\n",
        "conv1 = keras.layers.Conv2D(128, 8, 1, padding='same')(x) #\n",
        "conv1 = keras.layers.BatchNormalization()(conv1)\n",
        "conv1 = keras.layers.Activation('relu')(conv1)\n",
        "\n",
        "drop_out = Dropout(0.1)(conv1)\n",
        "conv2 = keras.layers.Conv2D(256, 5, 1, padding='same')(conv1)\n",
        "conv2 = keras.layers.BatchNormalization()(conv2)\n",
        "conv2 = keras.layers.Activation('relu')(conv2)\n",
        "\n",
        "drop_out = Dropout(0.1)(conv2)\n",
        "conv3 = keras.layers.Conv2D(128, 3, 1, padding='same')(conv2)\n",
        "conv3 = keras.layers.BatchNormalization()(conv3)\n",
        "conv3 = keras.layers.Activation('relu')(conv3)\n",
        "\n",
        "full = keras.layers.GlobalAveragePooling2D()(conv3)\n",
        "out = keras.layers.Dense(2, activation='softmax')(full)\n",
        "\n",
        "\n",
        "model = keras.models.Model(inputs=x, outputs=out)\n",
        "  \n",
        "optimizer = keras.optimizers.Adam()\n",
        "model.compile(loss='categorical_crossentropy',\n",
        "              optimizer=optimizer,\n",
        "              metrics=['accuracy'])\n",
        "  \n",
        "reduce_lr = keras.callbacks.ReduceLROnPlateau(monitor = 'loss', factor=0.5, patience=50, min_lr=0.0001)\n",
        "es = EarlyStopping(monitor='val_accuracy', mode='max', patience = 50)\n",
        "\n",
        "history = model.fit(x_train, y_train,  epochs=200, verbose=1, validation_data=(x_test, y_test), callbacks = [reduce_lr,es])\n",
        "#batch_size=batch_size,\n",
        "\n",
        "#Print the testing results which has the lowest training loss.\n",
        "log = pd.DataFrame(history.history)\n",
        "#print(log.loc[log['loss'].idxmin]['loss'], log.loc[log['loss'].idxmin]['val_accuracy'])"
      ],
      "execution_count": 209,
      "outputs": [
        {
          "output_type": "stream",
          "text": [
            "Epoch 1/200\n",
            "73/73 [==============================] - 1s 9ms/step - loss: 0.8427 - accuracy: 0.4885 - val_loss: 0.6951 - val_accuracy: 0.4270\n",
            "Epoch 2/200\n",
            "73/73 [==============================] - 0s 7ms/step - loss: 0.7002 - accuracy: 0.5192 - val_loss: 0.6990 - val_accuracy: 0.4350\n",
            "Epoch 3/200\n",
            "73/73 [==============================] - 0s 7ms/step - loss: 0.6939 - accuracy: 0.5387 - val_loss: 0.6912 - val_accuracy: 0.5680\n",
            "Epoch 4/200\n",
            "73/73 [==============================] - 0s 6ms/step - loss: 0.6972 - accuracy: 0.5128 - val_loss: 0.6895 - val_accuracy: 0.5710\n",
            "Epoch 5/200\n",
            "73/73 [==============================] - 0s 6ms/step - loss: 0.6995 - accuracy: 0.5439 - val_loss: 0.6903 - val_accuracy: 0.5370\n",
            "Epoch 6/200\n",
            "73/73 [==============================] - 0s 6ms/step - loss: 0.7059 - accuracy: 0.5315 - val_loss: 0.6836 - val_accuracy: 0.5710\n",
            "Epoch 7/200\n",
            "73/73 [==============================] - 0s 6ms/step - loss: 0.6987 - accuracy: 0.5055 - val_loss: 0.6827 - val_accuracy: 0.5720\n",
            "Epoch 8/200\n",
            "73/73 [==============================] - 0s 6ms/step - loss: 0.6910 - accuracy: 0.5571 - val_loss: 0.6958 - val_accuracy: 0.4720\n",
            "Epoch 9/200\n",
            "73/73 [==============================] - 0s 6ms/step - loss: 0.6957 - accuracy: 0.5333 - val_loss: 0.6917 - val_accuracy: 0.5710\n",
            "Epoch 10/200\n",
            "73/73 [==============================] - 0s 6ms/step - loss: 0.6930 - accuracy: 0.5358 - val_loss: 0.6853 - val_accuracy: 0.5680\n",
            "Epoch 11/200\n",
            "73/73 [==============================] - 0s 6ms/step - loss: 0.6891 - accuracy: 0.5420 - val_loss: 0.7181 - val_accuracy: 0.5430\n",
            "Epoch 12/200\n",
            "73/73 [==============================] - 0s 6ms/step - loss: 0.6982 - accuracy: 0.5360 - val_loss: 0.6851 - val_accuracy: 0.5710\n",
            "Epoch 13/200\n",
            "73/73 [==============================] - 0s 6ms/step - loss: 0.6858 - accuracy: 0.5555 - val_loss: 0.7057 - val_accuracy: 0.5740\n",
            "Epoch 14/200\n",
            "73/73 [==============================] - 0s 6ms/step - loss: 0.6991 - accuracy: 0.5268 - val_loss: 0.6923 - val_accuracy: 0.5440\n",
            "Epoch 15/200\n",
            "73/73 [==============================] - 0s 6ms/step - loss: 0.6905 - accuracy: 0.5599 - val_loss: 0.6961 - val_accuracy: 0.5730\n",
            "Epoch 16/200\n",
            "73/73 [==============================] - 0s 6ms/step - loss: 0.6859 - accuracy: 0.5496 - val_loss: 0.6931 - val_accuracy: 0.5420\n",
            "Epoch 17/200\n",
            "73/73 [==============================] - 0s 6ms/step - loss: 0.6879 - accuracy: 0.5487 - val_loss: 0.6916 - val_accuracy: 0.5430\n",
            "Epoch 18/200\n",
            "73/73 [==============================] - 0s 6ms/step - loss: 0.6890 - accuracy: 0.5449 - val_loss: 0.6941 - val_accuracy: 0.5410\n",
            "Epoch 19/200\n",
            "73/73 [==============================] - 0s 6ms/step - loss: 0.6951 - accuracy: 0.5189 - val_loss: 0.6901 - val_accuracy: 0.5510\n",
            "Epoch 20/200\n",
            "73/73 [==============================] - 0s 6ms/step - loss: 0.6946 - accuracy: 0.5324 - val_loss: 0.6874 - val_accuracy: 0.5610\n",
            "Epoch 21/200\n",
            "73/73 [==============================] - 0s 6ms/step - loss: 0.6893 - accuracy: 0.5552 - val_loss: 0.6984 - val_accuracy: 0.5590\n",
            "Epoch 22/200\n",
            "73/73 [==============================] - 0s 6ms/step - loss: 0.6896 - accuracy: 0.5215 - val_loss: 0.6867 - val_accuracy: 0.5590\n",
            "Epoch 23/200\n",
            "73/73 [==============================] - 0s 6ms/step - loss: 0.6934 - accuracy: 0.5266 - val_loss: 0.6894 - val_accuracy: 0.5660\n",
            "Epoch 24/200\n",
            "73/73 [==============================] - 0s 6ms/step - loss: 0.6924 - accuracy: 0.5254 - val_loss: 0.6859 - val_accuracy: 0.5590\n",
            "Epoch 25/200\n",
            "73/73 [==============================] - 0s 6ms/step - loss: 0.6888 - accuracy: 0.5418 - val_loss: 0.7185 - val_accuracy: 0.5560\n",
            "Epoch 26/200\n",
            "73/73 [==============================] - 0s 6ms/step - loss: 0.6945 - accuracy: 0.5435 - val_loss: 0.6960 - val_accuracy: 0.5610\n",
            "Epoch 27/200\n",
            "73/73 [==============================] - 0s 6ms/step - loss: 0.6880 - accuracy: 0.5580 - val_loss: 0.6954 - val_accuracy: 0.5660\n",
            "Epoch 28/200\n",
            "73/73 [==============================] - 0s 6ms/step - loss: 0.6861 - accuracy: 0.5487 - val_loss: 0.7002 - val_accuracy: 0.4980\n",
            "Epoch 29/200\n",
            "73/73 [==============================] - 0s 7ms/step - loss: 0.6878 - accuracy: 0.5330 - val_loss: 0.6890 - val_accuracy: 0.5510\n",
            "Epoch 30/200\n",
            "73/73 [==============================] - 0s 6ms/step - loss: 0.6865 - accuracy: 0.5625 - val_loss: 0.6914 - val_accuracy: 0.5490\n",
            "Epoch 31/200\n",
            "73/73 [==============================] - 0s 6ms/step - loss: 0.6901 - accuracy: 0.5370 - val_loss: 0.6899 - val_accuracy: 0.5480\n",
            "Epoch 32/200\n",
            "73/73 [==============================] - 0s 6ms/step - loss: 0.6862 - accuracy: 0.5513 - val_loss: 0.6952 - val_accuracy: 0.5320\n",
            "Epoch 33/200\n",
            "73/73 [==============================] - 0s 6ms/step - loss: 0.6929 - accuracy: 0.5318 - val_loss: 0.6862 - val_accuracy: 0.5590\n",
            "Epoch 34/200\n",
            "73/73 [==============================] - 0s 6ms/step - loss: 0.6894 - accuracy: 0.5495 - val_loss: 0.6861 - val_accuracy: 0.5730\n",
            "Epoch 35/200\n",
            "73/73 [==============================] - 0s 6ms/step - loss: 0.6851 - accuracy: 0.5664 - val_loss: 0.6992 - val_accuracy: 0.4800\n",
            "Epoch 36/200\n",
            "73/73 [==============================] - 0s 6ms/step - loss: 0.6896 - accuracy: 0.5308 - val_loss: 0.6946 - val_accuracy: 0.5720\n",
            "Epoch 37/200\n",
            "73/73 [==============================] - 0s 6ms/step - loss: 0.6882 - accuracy: 0.5174 - val_loss: 0.6959 - val_accuracy: 0.5770\n",
            "Epoch 38/200\n",
            "73/73 [==============================] - 0s 6ms/step - loss: 0.6890 - accuracy: 0.5514 - val_loss: 0.6953 - val_accuracy: 0.5660\n",
            "Epoch 39/200\n",
            "73/73 [==============================] - 0s 7ms/step - loss: 0.6870 - accuracy: 0.5519 - val_loss: 0.6897 - val_accuracy: 0.5460\n",
            "Epoch 40/200\n",
            "73/73 [==============================] - 0s 6ms/step - loss: 0.6900 - accuracy: 0.5381 - val_loss: 0.6877 - val_accuracy: 0.5600\n",
            "Epoch 41/200\n",
            "73/73 [==============================] - 0s 6ms/step - loss: 0.6863 - accuracy: 0.5449 - val_loss: 0.6892 - val_accuracy: 0.5570\n",
            "Epoch 42/200\n",
            "73/73 [==============================] - 0s 6ms/step - loss: 0.6889 - accuracy: 0.5426 - val_loss: 0.6904 - val_accuracy: 0.5610\n",
            "Epoch 43/200\n",
            "73/73 [==============================] - 0s 6ms/step - loss: 0.6869 - accuracy: 0.5451 - val_loss: 0.7087 - val_accuracy: 0.5780\n",
            "Epoch 44/200\n",
            "73/73 [==============================] - 0s 6ms/step - loss: 0.6977 - accuracy: 0.5365 - val_loss: 0.6975 - val_accuracy: 0.5590\n",
            "Epoch 45/200\n",
            "73/73 [==============================] - 0s 6ms/step - loss: 0.6944 - accuracy: 0.5535 - val_loss: 0.6894 - val_accuracy: 0.5680\n",
            "Epoch 46/200\n",
            "73/73 [==============================] - 0s 6ms/step - loss: 0.6834 - accuracy: 0.5635 - val_loss: 0.7052 - val_accuracy: 0.5220\n",
            "Epoch 47/200\n",
            "73/73 [==============================] - 0s 6ms/step - loss: 0.6877 - accuracy: 0.5313 - val_loss: 0.6965 - val_accuracy: 0.5730\n",
            "Epoch 48/200\n",
            "73/73 [==============================] - 0s 6ms/step - loss: 0.6873 - accuracy: 0.5479 - val_loss: 0.7007 - val_accuracy: 0.5180\n",
            "Epoch 49/200\n",
            "73/73 [==============================] - 0s 6ms/step - loss: 0.6919 - accuracy: 0.5276 - val_loss: 0.6942 - val_accuracy: 0.5690\n",
            "Epoch 50/200\n",
            "73/73 [==============================] - 0s 6ms/step - loss: 0.6892 - accuracy: 0.5445 - val_loss: 0.6929 - val_accuracy: 0.5440\n",
            "Epoch 51/200\n",
            "73/73 [==============================] - 0s 6ms/step - loss: 0.6878 - accuracy: 0.5377 - val_loss: 0.6916 - val_accuracy: 0.5470\n",
            "Epoch 52/200\n",
            "73/73 [==============================] - 0s 6ms/step - loss: 0.6873 - accuracy: 0.5563 - val_loss: 0.6892 - val_accuracy: 0.5550\n",
            "Epoch 53/200\n",
            "73/73 [==============================] - 0s 6ms/step - loss: 0.6894 - accuracy: 0.5390 - val_loss: 0.6903 - val_accuracy: 0.5570\n",
            "Epoch 54/200\n",
            "73/73 [==============================] - 0s 7ms/step - loss: 0.6866 - accuracy: 0.5583 - val_loss: 0.6879 - val_accuracy: 0.5680\n",
            "Epoch 55/200\n",
            "73/73 [==============================] - 0s 6ms/step - loss: 0.6867 - accuracy: 0.5567 - val_loss: 0.6916 - val_accuracy: 0.5730\n",
            "Epoch 56/200\n",
            "73/73 [==============================] - 0s 7ms/step - loss: 0.6879 - accuracy: 0.5411 - val_loss: 0.6922 - val_accuracy: 0.5470\n",
            "Epoch 57/200\n",
            "73/73 [==============================] - 0s 6ms/step - loss: 0.6880 - accuracy: 0.5484 - val_loss: 0.7012 - val_accuracy: 0.5430\n",
            "Epoch 58/200\n",
            "73/73 [==============================] - 0s 6ms/step - loss: 0.6861 - accuracy: 0.5305 - val_loss: 0.6930 - val_accuracy: 0.5340\n",
            "Epoch 59/200\n",
            "73/73 [==============================] - 0s 6ms/step - loss: 0.6890 - accuracy: 0.5373 - val_loss: 0.6934 - val_accuracy: 0.5560\n",
            "Epoch 60/200\n",
            "73/73 [==============================] - 0s 6ms/step - loss: 0.6910 - accuracy: 0.5402 - val_loss: 0.6889 - val_accuracy: 0.5630\n",
            "Epoch 61/200\n",
            "73/73 [==============================] - 0s 6ms/step - loss: 0.6879 - accuracy: 0.5463 - val_loss: 0.6868 - val_accuracy: 0.5610\n",
            "Epoch 62/200\n",
            "73/73 [==============================] - 0s 6ms/step - loss: 0.6886 - accuracy: 0.5316 - val_loss: 0.6952 - val_accuracy: 0.5340\n",
            "Epoch 63/200\n",
            "73/73 [==============================] - 0s 7ms/step - loss: 0.6869 - accuracy: 0.5561 - val_loss: 0.7127 - val_accuracy: 0.5170\n",
            "Epoch 64/200\n",
            "73/73 [==============================] - 0s 6ms/step - loss: 0.6857 - accuracy: 0.5496 - val_loss: 0.6868 - val_accuracy: 0.5790\n",
            "Epoch 65/200\n",
            "73/73 [==============================] - 0s 6ms/step - loss: 0.6953 - accuracy: 0.5296 - val_loss: 0.6887 - val_accuracy: 0.5720\n",
            "Epoch 66/200\n",
            "73/73 [==============================] - 0s 6ms/step - loss: 0.6850 - accuracy: 0.5432 - val_loss: 0.6878 - val_accuracy: 0.5640\n",
            "Epoch 67/200\n",
            "73/73 [==============================] - 0s 7ms/step - loss: 0.6886 - accuracy: 0.5430 - val_loss: 0.6917 - val_accuracy: 0.5700\n",
            "Epoch 68/200\n",
            "73/73 [==============================] - 0s 7ms/step - loss: 0.6855 - accuracy: 0.5525 - val_loss: 0.6901 - val_accuracy: 0.5530\n",
            "Epoch 69/200\n",
            "73/73 [==============================] - 0s 7ms/step - loss: 0.6850 - accuracy: 0.5687 - val_loss: 0.6956 - val_accuracy: 0.5340\n",
            "Epoch 70/200\n",
            "73/73 [==============================] - 0s 6ms/step - loss: 0.6931 - accuracy: 0.5296 - val_loss: 0.7011 - val_accuracy: 0.5560\n",
            "Epoch 71/200\n",
            "73/73 [==============================] - 0s 6ms/step - loss: 0.6911 - accuracy: 0.5636 - val_loss: 0.6955 - val_accuracy: 0.5690\n",
            "Epoch 72/200\n",
            "73/73 [==============================] - 0s 6ms/step - loss: 0.6873 - accuracy: 0.5514 - val_loss: 0.6869 - val_accuracy: 0.5710\n",
            "Epoch 73/200\n",
            "73/73 [==============================] - 0s 6ms/step - loss: 0.6865 - accuracy: 0.5455 - val_loss: 0.6874 - val_accuracy: 0.5550\n",
            "Epoch 74/200\n",
            "73/73 [==============================] - 0s 6ms/step - loss: 0.6883 - accuracy: 0.5559 - val_loss: 0.6896 - val_accuracy: 0.5590\n",
            "Epoch 75/200\n",
            "73/73 [==============================] - 0s 6ms/step - loss: 0.6813 - accuracy: 0.5659 - val_loss: 0.6889 - val_accuracy: 0.5640\n",
            "Epoch 76/200\n",
            "73/73 [==============================] - 0s 6ms/step - loss: 0.6875 - accuracy: 0.5514 - val_loss: 0.6847 - val_accuracy: 0.5710\n",
            "Epoch 77/200\n",
            "73/73 [==============================] - 0s 6ms/step - loss: 0.6904 - accuracy: 0.5299 - val_loss: 0.6929 - val_accuracy: 0.5520\n",
            "Epoch 78/200\n",
            "73/73 [==============================] - 0s 7ms/step - loss: 0.6880 - accuracy: 0.5462 - val_loss: 0.6881 - val_accuracy: 0.5590\n",
            "Epoch 79/200\n",
            "73/73 [==============================] - 0s 7ms/step - loss: 0.6918 - accuracy: 0.5260 - val_loss: 0.6927 - val_accuracy: 0.5690\n",
            "Epoch 80/200\n",
            "73/73 [==============================] - 0s 6ms/step - loss: 0.6949 - accuracy: 0.5346 - val_loss: 0.6947 - val_accuracy: 0.5530\n",
            "Epoch 81/200\n",
            "73/73 [==============================] - 0s 6ms/step - loss: 0.6867 - accuracy: 0.5514 - val_loss: 0.6887 - val_accuracy: 0.5530\n",
            "Epoch 82/200\n",
            "73/73 [==============================] - 0s 7ms/step - loss: 0.6870 - accuracy: 0.5591 - val_loss: 0.6927 - val_accuracy: 0.5590\n",
            "Epoch 83/200\n",
            "73/73 [==============================] - 0s 6ms/step - loss: 0.6915 - accuracy: 0.5336 - val_loss: 0.6889 - val_accuracy: 0.5600\n",
            "Epoch 84/200\n",
            "73/73 [==============================] - 0s 7ms/step - loss: 0.6796 - accuracy: 0.5705 - val_loss: 0.6907 - val_accuracy: 0.5440\n",
            "Epoch 85/200\n",
            "73/73 [==============================] - 0s 6ms/step - loss: 0.6894 - accuracy: 0.5536 - val_loss: 0.6885 - val_accuracy: 0.5570\n",
            "Epoch 86/200\n",
            "73/73 [==============================] - 0s 6ms/step - loss: 0.6855 - accuracy: 0.5562 - val_loss: 0.6876 - val_accuracy: 0.5660\n",
            "Epoch 87/200\n",
            "73/73 [==============================] - 0s 6ms/step - loss: 0.6890 - accuracy: 0.5465 - val_loss: 0.6879 - val_accuracy: 0.5600\n",
            "Epoch 88/200\n",
            "73/73 [==============================] - 0s 6ms/step - loss: 0.6853 - accuracy: 0.5479 - val_loss: 0.6875 - val_accuracy: 0.5650\n",
            "Epoch 89/200\n",
            "73/73 [==============================] - 0s 6ms/step - loss: 0.6876 - accuracy: 0.5480 - val_loss: 0.6858 - val_accuracy: 0.5650\n",
            "Epoch 90/200\n",
            "73/73 [==============================] - 1s 7ms/step - loss: 0.6883 - accuracy: 0.5475 - val_loss: 0.6875 - val_accuracy: 0.5610\n",
            "Epoch 91/200\n",
            "73/73 [==============================] - 0s 6ms/step - loss: 0.6918 - accuracy: 0.5293 - val_loss: 0.6882 - val_accuracy: 0.5570\n",
            "Epoch 92/200\n",
            "73/73 [==============================] - 0s 6ms/step - loss: 0.6886 - accuracy: 0.5400 - val_loss: 0.6914 - val_accuracy: 0.5750\n",
            "Epoch 93/200\n",
            "73/73 [==============================] - 0s 6ms/step - loss: 0.6906 - accuracy: 0.5355 - val_loss: 0.6941 - val_accuracy: 0.5410\n",
            "Epoch 94/200\n",
            "73/73 [==============================] - 0s 6ms/step - loss: 0.6871 - accuracy: 0.5414 - val_loss: 0.6887 - val_accuracy: 0.5400\n",
            "Epoch 95/200\n",
            "73/73 [==============================] - 0s 6ms/step - loss: 0.6852 - accuracy: 0.5661 - val_loss: 0.6985 - val_accuracy: 0.5690\n",
            "Epoch 96/200\n",
            "73/73 [==============================] - 0s 6ms/step - loss: 0.6842 - accuracy: 0.5644 - val_loss: 0.6920 - val_accuracy: 0.5440\n",
            "Epoch 97/200\n",
            "73/73 [==============================] - 0s 7ms/step - loss: 0.6831 - accuracy: 0.5508 - val_loss: 0.6936 - val_accuracy: 0.5340\n",
            "Epoch 98/200\n",
            "73/73 [==============================] - 0s 6ms/step - loss: 0.6815 - accuracy: 0.5516 - val_loss: 0.6985 - val_accuracy: 0.5310\n",
            "Epoch 99/200\n",
            "73/73 [==============================] - 0s 7ms/step - loss: 0.6876 - accuracy: 0.5588 - val_loss: 0.6916 - val_accuracy: 0.5320\n",
            "Epoch 100/200\n",
            "73/73 [==============================] - 0s 7ms/step - loss: 0.6894 - accuracy: 0.5283 - val_loss: 0.6902 - val_accuracy: 0.5670\n",
            "Epoch 101/200\n",
            "73/73 [==============================] - 0s 7ms/step - loss: 0.6855 - accuracy: 0.5529 - val_loss: 0.6999 - val_accuracy: 0.5430\n",
            "Epoch 102/200\n",
            "73/73 [==============================] - 0s 6ms/step - loss: 0.6817 - accuracy: 0.5669 - val_loss: 0.6937 - val_accuracy: 0.5640\n",
            "Epoch 103/200\n",
            "73/73 [==============================] - 0s 7ms/step - loss: 0.6833 - accuracy: 0.5499 - val_loss: 0.6885 - val_accuracy: 0.5760\n",
            "Epoch 104/200\n",
            "73/73 [==============================] - 0s 6ms/step - loss: 0.6802 - accuracy: 0.5754 - val_loss: 0.6945 - val_accuracy: 0.5350\n",
            "Epoch 105/200\n",
            "73/73 [==============================] - 0s 7ms/step - loss: 0.6900 - accuracy: 0.5450 - val_loss: 0.6880 - val_accuracy: 0.5570\n",
            "Epoch 106/200\n",
            "73/73 [==============================] - 0s 6ms/step - loss: 0.6867 - accuracy: 0.5532 - val_loss: 0.6919 - val_accuracy: 0.5670\n",
            "Epoch 107/200\n",
            "73/73 [==============================] - 0s 7ms/step - loss: 0.6853 - accuracy: 0.5531 - val_loss: 0.6873 - val_accuracy: 0.5600\n",
            "Epoch 108/200\n",
            "73/73 [==============================] - 0s 7ms/step - loss: 0.6843 - accuracy: 0.5588 - val_loss: 0.6915 - val_accuracy: 0.5450\n",
            "Epoch 109/200\n",
            "73/73 [==============================] - 0s 6ms/step - loss: 0.6878 - accuracy: 0.5468 - val_loss: 0.6929 - val_accuracy: 0.5440\n",
            "Epoch 110/200\n",
            "73/73 [==============================] - 0s 6ms/step - loss: 0.6901 - accuracy: 0.5412 - val_loss: 0.6906 - val_accuracy: 0.5610\n",
            "Epoch 111/200\n",
            "73/73 [==============================] - 1s 7ms/step - loss: 0.6855 - accuracy: 0.5510 - val_loss: 0.6880 - val_accuracy: 0.5540\n",
            "Epoch 112/200\n",
            "73/73 [==============================] - 0s 6ms/step - loss: 0.6848 - accuracy: 0.5589 - val_loss: 0.6900 - val_accuracy: 0.5510\n",
            "Epoch 113/200\n",
            "73/73 [==============================] - 0s 7ms/step - loss: 0.6866 - accuracy: 0.5544 - val_loss: 0.6952 - val_accuracy: 0.5670\n",
            "Epoch 114/200\n",
            "73/73 [==============================] - 0s 6ms/step - loss: 0.6868 - accuracy: 0.5433 - val_loss: 0.6914 - val_accuracy: 0.5590\n"
          ],
          "name": "stdout"
        }
      ]
    },
    {
      "cell_type": "code",
      "metadata": {
        "colab": {
          "base_uri": "https://localhost:8080/"
        },
        "id": "50M8DGIIiuAK",
        "outputId": "65044647-1a37-40be-c9bd-eed044d001f8"
      },
      "source": [
        "max(history.history['val_accuracy'])"
      ],
      "execution_count": 210,
      "outputs": [
        {
          "output_type": "execute_result",
          "data": {
            "text/plain": [
              "0.5789999961853027"
            ]
          },
          "metadata": {
            "tags": []
          },
          "execution_count": 210
        }
      ]
    },
    {
      "cell_type": "code",
      "metadata": {
        "colab": {
          "base_uri": "https://localhost:8080/"
        },
        "id": "KQ6kI8vkiudz",
        "outputId": "19207591-cd62-4438-8655-1f455e1725c1"
      },
      "source": [
        "model.evaluate(x_test,y_test)"
      ],
      "execution_count": 211,
      "outputs": [
        {
          "output_type": "stream",
          "text": [
            "32/32 [==============================] - 0s 3ms/step - loss: 0.6914 - accuracy: 0.5590\n"
          ],
          "name": "stdout"
        },
        {
          "output_type": "execute_result",
          "data": {
            "text/plain": [
              "[0.6913726925849915, 0.5590000152587891]"
            ]
          },
          "metadata": {
            "tags": []
          },
          "execution_count": 211
        }
      ]
    },
    {
      "cell_type": "code",
      "metadata": {
        "colab": {
          "base_uri": "https://localhost:8080/",
          "height": 444
        },
        "id": "Qs8iHI254e3N",
        "outputId": "17ecc965-8400-4370-f53e-3f6d3c097937"
      },
      "source": [
        "figure(figsize=(8, 6), dpi=80)\n",
        "plt.plot(history.history['loss'])\n",
        "plt.plot(history.history['val_loss'])\n",
        "plt.title('model loss')\n",
        "plt.ylabel('loss')\n",
        "plt.xlabel('epoch')\n",
        "plt.legend(['train', 'test'], loc='upper left')\n",
        "plt.show()"
      ],
      "execution_count": 212,
      "outputs": [
        {
          "output_type": "display_data",
          "data": {
            "image/png": "[encoded data removed]",
            "text/plain": [
              "<Figure size 640x480 with 1 Axes>"
            ]
          },
          "metadata": {
            "tags": [],
            "needs_background": "light"
          }
        }
      ]
    },
    {
      "cell_type": "code",
      "metadata": {
        "colab": {
          "base_uri": "https://localhost:8080/",
          "height": 444
        },
        "id": "wExS9ysOi0dg",
        "outputId": "b0a8534d-f888-4658-fd0e-52467c052661"
      },
      "source": [
        "figure(figsize=(8, 6), dpi=80)\n",
        "plt.plot(history.history['accuracy'])\n",
        "plt.plot(history.history['val_accuracy'])\n",
        "plt.title('model accuracy')\n",
        "plt.ylabel('accuracy')\n",
        "plt.xlabel('epoch')\n",
        "plt.legend(['train', 'test'], loc='upper left')\n",
        "plt.show()"
      ],
      "execution_count": 213,
      "outputs": [
        {
          "output_type": "display_data",
          "data": {
            "image/png": "[encoded data removed]",
            "text/plain": [
              "<Figure size 640x480 with 1 Axes>"
            ]
          },
          "metadata": {
            "tags": [],
            "needs_background": "light"
          }
        }
      ]
    },
    {
      "cell_type": "code",
      "metadata": {
        "id": "opAAzCmxjPji"
      },
      "source": [
        "predictions = model.predict(x_test)"
      ],
      "execution_count": 214,
      "outputs": []
    },
    {
      "cell_type": "code",
      "metadata": {
        "colab": {
          "base_uri": "https://localhost:8080/"
        },
        "id": "xo1JFjFBMJTB",
        "outputId": "ac735023-2194-44a7-c58f-9f9178a080db"
      },
      "source": [
        "np.column_stack((predictions.round(2),y_test))"
      ],
      "execution_count": 215,
      "outputs": [
        {
          "output_type": "execute_result",
          "data": {
            "text/plain": [
              "array([[0.43, 0.57, 0.  , 1.  ],\n",
              "       [0.38, 0.62, 0.  , 1.  ],\n",
              "       [0.49, 0.51, 0.  , 1.  ],\n",
              "       ...,\n",
              "       [0.5 , 0.5 , 1.  , 0.  ],\n",
              "       [0.5 , 0.5 , 0.  , 1.  ],\n",
              "       [0.54, 0.46, 1.  , 0.  ]], dtype=float32)"
            ]
          },
          "metadata": {
            "tags": []
          },
          "execution_count": 215
        }
      ]
    },
    {
      "cell_type": "code",
      "metadata": {
        "id": "oj2ZINycMPJd"
      },
      "source": [
        ""
      ],
      "execution_count": null,
      "outputs": []
    }
  ]
}