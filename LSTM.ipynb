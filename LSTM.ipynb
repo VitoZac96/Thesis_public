{
  "nbformat": 4,
  "nbformat_minor": 0,
  "metadata": {
    "colab": {
      "name": "LSTM.ipynb",
      "provenance": [],
      "authorship_tag": "ABX9TyOlcPOcMLjvz+tJVJKsfl7u",
      "include_colab_link": true
    },
    "kernelspec": {
      "name": "python3",
      "display_name": "Python 3"
    },
    "language_info": {
      "name": "python"
    },
    "accelerator": "GPU"
  },
  "cells": [
    {
      "cell_type": "markdown",
      "metadata": {
        "id": "view-in-github",
        "colab_type": "text"
      },
      "source": [
        "<a href=\"https://colab.research.google.com/github/VitoZac96/Thesis_public/blob/main/LSTM.ipynb\" target=\"_parent\"><img src=\"https://colab.research.google.com/assets/colab-badge.svg\" alt=\"Open In Colab\"/></a>"
      ]
    },
    {
      "cell_type": "code",
      "metadata": {
        "id": "yk7pNqhrUfpK"
      },
      "source": [
        ""
      ],
      "execution_count": 3,
      "outputs": []
    },
    {
      "cell_type": "code",
      "metadata": {
        "id": "YMIoNYz3Us-x"
      },
      "source": [
        "import numpy as np # linear algebra\n",
        "import pandas as pd # data processing, CSV file I/O (e.g. pd.read_csv)\n",
        "\n",
        "from subprocess import check_output\n",
        "from keras.layers.core import Dense, Activation, Dropout\n",
        "from keras.layers.recurrent import LSTM\n",
        "from keras.models import Sequential\n",
        "from sklearn.model_selection import train_test_split\n",
        "import time #helper libraries\n",
        "from sklearn.preprocessing import MinMaxScaler\n",
        "import matplotlib.pyplot as plt\n",
        "from numpy import newaxis\n",
        "\n",
        "from matplotlib.pyplot import figure"
      ],
      "execution_count": 3,
      "outputs": []
    },
    {
      "cell_type": "code",
      "metadata": {
        "id": "_4p2zyBhUvNq"
      },
      "source": [
        "\n",
        "from tensorflow import keras\n",
        "from sklearn.model_selection import train_test_split\n",
        "import numpy as np\n",
        "import pandas as pd\n",
        "from keras.layers import Dropout\n",
        "import matplotlib.pyplot as plt\n",
        "from matplotlib.pyplot import figure\n",
        "from keras.callbacks import EarlyStopping\n",
        "from keras.models import Sequential"
      ],
      "execution_count": 4,
      "outputs": []
    },
    {
      "cell_type": "code",
      "metadata": {
        "id": "UopIwYUnthYX"
      },
      "source": [
        "!pip install yfinance\n",
        "!pip install yahoofinancials"
      ],
      "execution_count": null,
      "outputs": []
    },
    {
      "cell_type": "code",
      "metadata": {
        "id": "pRfusJu2thar"
      },
      "source": [
        "import yfinance as yf\n",
        "from yahoofinancials import YahooFinancials\n",
        "\n",
        "import numpy\n",
        "import pandas as pd\n",
        "\n",
        "\n",
        "from sklearn.preprocessing import MinMaxScaler\n",
        "from tensorflow.keras.models import Sequential\n",
        "from tensorflow.keras.layers import Dense\n",
        "from tensorflow.keras.layers import LSTM"
      ],
      "execution_count": null,
      "outputs": []
    },
    {
      "cell_type": "code",
      "metadata": {
        "id": "ht_7pn4mthdB"
      },
      "source": [
        ""
      ],
      "execution_count": null,
      "outputs": []
    },
    {
      "cell_type": "code",
      "metadata": {
        "id": "9HyMF28FU0xI"
      },
      "source": [
        "data = yf.download('AAPL', \n",
        "                      start='2010-01-01',    #'2015-07-07'\n",
        "                      end='2021-04-05', \n",
        "                      progress=False)\n",
        "\n",
        "data = data[\"Adj Close\"].values"
      ],
      "execution_count": 693,
      "outputs": []
    },
    {
      "cell_type": "code",
      "metadata": {
        "id": "KyQOzkmCU-Nl"
      },
      "source": [
        "scaler = MinMaxScaler(feature_range=(0,1))\n",
        "scaled_data = scaler.fit_transform(np.array(data).reshape(-1,1))"
      ],
      "execution_count": 694,
      "outputs": []
    },
    {
      "cell_type": "code",
      "metadata": {
        "id": "9BirVA4kVWpP"
      },
      "source": [
        "##splitting dataset into train and test split\n",
        "training_size = int(len(scaled_data) * 0.985)\n",
        "test_size = len(scaled_data) - training_size\n",
        "\n",
        "train_data, test_data = scaled_data[0:training_size,:] , scaled_data[training_size:,:]"
      ],
      "execution_count": 695,
      "outputs": []
    },
    {
      "cell_type": "code",
      "metadata": {
        "id": "YL9TtF6QVg2r"
      },
      "source": [
        "# convert an array of values into a dataset matrix\n",
        "def create_dataset(dataset, time_step=1):\n",
        "\n",
        "\tdataX, dataY = [], []\n",
        "  \n",
        "\tfor i in range(len(dataset)-time_step-1):\n",
        "\t\ta = dataset[i:(i+time_step), 0]   ###i=0, 0,1,2,3-----99   100 \n",
        "\t\tdataX.append(a)\n",
        "\t\tdataY.append(dataset[i + time_step, 0])\n",
        "\treturn numpy.array(dataX), numpy.array(dataY)"
      ],
      "execution_count": 696,
      "outputs": []
    },
    {
      "cell_type": "code",
      "metadata": {
        "id": "yQYnEuAkVhVb"
      },
      "source": [
        "# reshape into X=t,t+1,t+2,t+3 and Y=t+4\n",
        "time_step = 5\n",
        "X_train, y_train = create_dataset(train_data, time_step)\n",
        "X_test, ytest = create_dataset(test_data, time_step)"
      ],
      "execution_count": 709,
      "outputs": []
    },
    {
      "cell_type": "code",
      "metadata": {
        "colab": {
          "base_uri": "https://localhost:8080/"
        },
        "id": "MSSHD62L5UMl",
        "outputId": "a7fc3edb-275c-435b-e24b-9136321c2aaf"
      },
      "source": [
        "X_test.shape, ytest.shape"
      ],
      "execution_count": 710,
      "outputs": [
        {
          "output_type": "execute_result",
          "data": {
            "text/plain": [
              "((37, 5), (37,))"
            ]
          },
          "metadata": {
            "tags": []
          },
          "execution_count": 710
        }
      ]
    },
    {
      "cell_type": "code",
      "metadata": {
        "id": "q0IU9sNRWNCD"
      },
      "source": [
        "# reshape input to be [samples, time steps, features] which is required for LSTM\n",
        "X_train =X_train.reshape(X_train.shape[0],X_train.shape[1] , 1)\n",
        "X_test = X_test.reshape(X_test.shape[0],X_test.shape[1] , 1)"
      ],
      "execution_count": 711,
      "outputs": []
    },
    {
      "cell_type": "code",
      "metadata": {
        "id": "NNX2YU02WTaj"
      },
      "source": [
        "model=Sequential()\n",
        "model.add(LSTM(50,return_sequences=True,input_shape=(time_step,1)))\n",
        "model.add(Dropout(0.1))\n",
        "\n",
        "model.add(LSTM(50,return_sequences=True))\n",
        "#model.add(Dropout(0.1))\n",
        "\n",
        "model.add(LSTM(50))\n",
        "model.add(Dense(1))\n",
        "\n",
        "model.compile(loss='mean_squared_error',optimizer='adam')"
      ],
      "execution_count": 712,
      "outputs": []
    },
    {
      "cell_type": "code",
      "metadata": {
        "colab": {
          "base_uri": "https://localhost:8080/"
        },
        "id": "kxgLC5PNWTcz",
        "outputId": "b3a44989-a463-4009-e110-c1091a5590a1"
      },
      "source": [
        "model.fit(X_train,y_train,validation_data=(X_test,ytest),epochs=200,batch_size=64,verbose=1)"
      ],
      "execution_count": 713,
      "outputs": [
        {
          "output_type": "stream",
          "text": [
            "Epoch 1/200\n",
            "44/44 [==============================] - 5s 29ms/step - loss: 0.0369 - val_loss: 0.0095\n",
            "Epoch 2/200\n",
            "44/44 [==============================] - 0s 7ms/step - loss: 8.0456e-04 - val_loss: 0.0033\n",
            "Epoch 3/200\n",
            "44/44 [==============================] - 0s 7ms/step - loss: 2.4202e-04 - val_loss: 0.0020\n",
            "Epoch 4/200\n",
            "44/44 [==============================] - 0s 7ms/step - loss: 2.1633e-04 - val_loss: 7.2093e-04\n",
            "Epoch 5/200\n",
            "44/44 [==============================] - 0s 7ms/step - loss: 1.8417e-04 - val_loss: 5.8677e-04\n",
            "Epoch 6/200\n",
            "44/44 [==============================] - 0s 7ms/step - loss: 1.8495e-04 - val_loss: 8.9401e-04\n",
            "Epoch 7/200\n",
            "44/44 [==============================] - 0s 7ms/step - loss: 1.6482e-04 - val_loss: 0.0014\n",
            "Epoch 8/200\n",
            "44/44 [==============================] - 0s 7ms/step - loss: 1.5585e-04 - val_loss: 0.0023\n",
            "Epoch 9/200\n",
            "44/44 [==============================] - 0s 8ms/step - loss: 2.2051e-04 - val_loss: 0.0010\n",
            "Epoch 10/200\n",
            "44/44 [==============================] - 0s 7ms/step - loss: 1.6485e-04 - val_loss: 6.2183e-04\n",
            "Epoch 11/200\n",
            "44/44 [==============================] - 0s 7ms/step - loss: 1.5644e-04 - val_loss: 6.1412e-04\n",
            "Epoch 12/200\n",
            "44/44 [==============================] - 0s 7ms/step - loss: 1.9819e-04 - val_loss: 7.3633e-04\n",
            "Epoch 13/200\n",
            "44/44 [==============================] - 0s 7ms/step - loss: 2.0285e-04 - val_loss: 5.7395e-04\n",
            "Epoch 14/200\n",
            "44/44 [==============================] - 0s 7ms/step - loss: 1.6995e-04 - val_loss: 7.2694e-04\n",
            "Epoch 15/200\n",
            "44/44 [==============================] - 0s 8ms/step - loss: 1.8661e-04 - val_loss: 7.7246e-04\n",
            "Epoch 16/200\n",
            "44/44 [==============================] - 0s 7ms/step - loss: 1.8284e-04 - val_loss: 7.2619e-04\n",
            "Epoch 17/200\n",
            "44/44 [==============================] - 0s 7ms/step - loss: 1.6028e-04 - val_loss: 6.9463e-04\n",
            "Epoch 18/200\n",
            "44/44 [==============================] - 0s 7ms/step - loss: 1.6474e-04 - val_loss: 0.0011\n",
            "Epoch 19/200\n",
            "44/44 [==============================] - 0s 7ms/step - loss: 2.1979e-04 - val_loss: 0.0023\n",
            "Epoch 20/200\n",
            "44/44 [==============================] - 0s 7ms/step - loss: 1.8412e-04 - val_loss: 0.0011\n",
            "Epoch 21/200\n",
            "44/44 [==============================] - 0s 7ms/step - loss: 1.5270e-04 - val_loss: 8.4483e-04\n",
            "Epoch 22/200\n",
            "44/44 [==============================] - 0s 7ms/step - loss: 1.7631e-04 - val_loss: 5.0458e-04\n",
            "Epoch 23/200\n",
            "44/44 [==============================] - 0s 7ms/step - loss: 1.8958e-04 - val_loss: 4.8027e-04\n",
            "Epoch 24/200\n",
            "44/44 [==============================] - 0s 7ms/step - loss: 2.1211e-04 - val_loss: 6.7708e-04\n",
            "Epoch 25/200\n",
            "44/44 [==============================] - 0s 7ms/step - loss: 1.6779e-04 - val_loss: 7.9676e-04\n",
            "Epoch 26/200\n",
            "44/44 [==============================] - 0s 7ms/step - loss: 1.4553e-04 - val_loss: 0.0015\n",
            "Epoch 27/200\n",
            "44/44 [==============================] - 0s 7ms/step - loss: 2.1286e-04 - val_loss: 0.0022\n",
            "Epoch 28/200\n",
            "44/44 [==============================] - 0s 7ms/step - loss: 2.1713e-04 - val_loss: 6.6828e-04\n",
            "Epoch 29/200\n",
            "44/44 [==============================] - 0s 7ms/step - loss: 1.5765e-04 - val_loss: 4.7445e-04\n",
            "Epoch 30/200\n",
            "44/44 [==============================] - 0s 8ms/step - loss: 1.8311e-04 - val_loss: 0.0017\n",
            "Epoch 31/200\n",
            "44/44 [==============================] - 0s 7ms/step - loss: 1.6847e-04 - val_loss: 5.0520e-04\n",
            "Epoch 32/200\n",
            "44/44 [==============================] - 0s 7ms/step - loss: 1.5252e-04 - val_loss: 6.4442e-04\n",
            "Epoch 33/200\n",
            "44/44 [==============================] - 0s 7ms/step - loss: 1.8326e-04 - val_loss: 4.8978e-04\n",
            "Epoch 34/200\n",
            "44/44 [==============================] - 0s 7ms/step - loss: 1.4727e-04 - val_loss: 5.0247e-04\n",
            "Epoch 35/200\n",
            "44/44 [==============================] - 0s 7ms/step - loss: 1.2497e-04 - val_loss: 0.0018\n",
            "Epoch 36/200\n",
            "44/44 [==============================] - 0s 7ms/step - loss: 1.5348e-04 - val_loss: 0.0017\n",
            "Epoch 37/200\n",
            "44/44 [==============================] - 0s 7ms/step - loss: 1.7644e-04 - val_loss: 9.1997e-04\n",
            "Epoch 38/200\n",
            "44/44 [==============================] - 0s 7ms/step - loss: 1.5985e-04 - val_loss: 8.4057e-04\n",
            "Epoch 39/200\n",
            "44/44 [==============================] - 0s 7ms/step - loss: 1.9735e-04 - val_loss: 5.6490e-04\n",
            "Epoch 40/200\n",
            "44/44 [==============================] - 0s 8ms/step - loss: 1.6893e-04 - val_loss: 4.5591e-04\n",
            "Epoch 41/200\n",
            "44/44 [==============================] - 0s 7ms/step - loss: 1.8439e-04 - val_loss: 6.2831e-04\n",
            "Epoch 42/200\n",
            "44/44 [==============================] - 0s 7ms/step - loss: 1.5348e-04 - val_loss: 4.7017e-04\n",
            "Epoch 43/200\n",
            "44/44 [==============================] - 0s 8ms/step - loss: 1.4207e-04 - val_loss: 5.7246e-04\n",
            "Epoch 44/200\n",
            "44/44 [==============================] - 0s 7ms/step - loss: 1.6394e-04 - val_loss: 0.0017\n",
            "Epoch 45/200\n",
            "44/44 [==============================] - 0s 7ms/step - loss: 2.1416e-04 - val_loss: 0.0012\n",
            "Epoch 46/200\n",
            "44/44 [==============================] - 0s 7ms/step - loss: 1.6551e-04 - val_loss: 0.0011\n",
            "Epoch 47/200\n",
            "44/44 [==============================] - 0s 7ms/step - loss: 1.6151e-04 - val_loss: 5.2499e-04\n",
            "Epoch 48/200\n",
            "44/44 [==============================] - 0s 7ms/step - loss: 1.8962e-04 - val_loss: 4.5410e-04\n",
            "Epoch 49/200\n",
            "44/44 [==============================] - 0s 8ms/step - loss: 1.6545e-04 - val_loss: 0.0010\n",
            "Epoch 50/200\n",
            "44/44 [==============================] - 0s 7ms/step - loss: 1.7548e-04 - val_loss: 5.2823e-04\n",
            "Epoch 51/200\n",
            "44/44 [==============================] - 0s 7ms/step - loss: 1.8866e-04 - val_loss: 0.0012\n",
            "Epoch 52/200\n",
            "44/44 [==============================] - 0s 7ms/step - loss: 1.8288e-04 - val_loss: 7.6122e-04\n",
            "Epoch 53/200\n",
            "44/44 [==============================] - 0s 7ms/step - loss: 1.4429e-04 - val_loss: 6.5870e-04\n",
            "Epoch 54/200\n",
            "44/44 [==============================] - 0s 7ms/step - loss: 1.6652e-04 - val_loss: 6.0747e-04\n",
            "Epoch 55/200\n",
            "44/44 [==============================] - 0s 7ms/step - loss: 1.4387e-04 - val_loss: 5.3419e-04\n",
            "Epoch 56/200\n",
            "44/44 [==============================] - 0s 7ms/step - loss: 1.3666e-04 - val_loss: 4.3891e-04\n",
            "Epoch 57/200\n",
            "44/44 [==============================] - 0s 7ms/step - loss: 1.3323e-04 - val_loss: 6.0254e-04\n",
            "Epoch 58/200\n",
            "44/44 [==============================] - 0s 7ms/step - loss: 1.4185e-04 - val_loss: 4.4620e-04\n",
            "Epoch 59/200\n",
            "44/44 [==============================] - 0s 7ms/step - loss: 1.4178e-04 - val_loss: 6.2861e-04\n",
            "Epoch 60/200\n",
            "44/44 [==============================] - 0s 7ms/step - loss: 1.0967e-04 - val_loss: 6.1376e-04\n",
            "Epoch 61/200\n",
            "44/44 [==============================] - 0s 7ms/step - loss: 1.7356e-04 - val_loss: 7.6530e-04\n",
            "Epoch 62/200\n",
            "44/44 [==============================] - 0s 7ms/step - loss: 1.4068e-04 - val_loss: 5.0508e-04\n",
            "Epoch 63/200\n",
            "44/44 [==============================] - 0s 7ms/step - loss: 1.4225e-04 - val_loss: 8.3914e-04\n",
            "Epoch 64/200\n",
            "44/44 [==============================] - 0s 7ms/step - loss: 1.3480e-04 - val_loss: 7.0589e-04\n",
            "Epoch 65/200\n",
            "44/44 [==============================] - 0s 7ms/step - loss: 1.7272e-04 - val_loss: 6.7494e-04\n",
            "Epoch 66/200\n",
            "44/44 [==============================] - 0s 8ms/step - loss: 1.9167e-04 - val_loss: 7.9878e-04\n",
            "Epoch 67/200\n",
            "44/44 [==============================] - 0s 7ms/step - loss: 1.4423e-04 - val_loss: 7.6719e-04\n",
            "Epoch 68/200\n",
            "44/44 [==============================] - 0s 8ms/step - loss: 1.5294e-04 - val_loss: 5.0508e-04\n",
            "Epoch 69/200\n",
            "44/44 [==============================] - 0s 7ms/step - loss: 1.3496e-04 - val_loss: 6.3795e-04\n",
            "Epoch 70/200\n",
            "44/44 [==============================] - 0s 7ms/step - loss: 1.6279e-04 - val_loss: 4.3630e-04\n",
            "Epoch 71/200\n",
            "44/44 [==============================] - 0s 8ms/step - loss: 1.7017e-04 - val_loss: 7.5672e-04\n",
            "Epoch 72/200\n",
            "44/44 [==============================] - 0s 8ms/step - loss: 1.6227e-04 - val_loss: 5.4745e-04\n",
            "Epoch 73/200\n",
            "44/44 [==============================] - 0s 7ms/step - loss: 1.8520e-04 - val_loss: 4.2535e-04\n",
            "Epoch 74/200\n",
            "44/44 [==============================] - 0s 7ms/step - loss: 1.3233e-04 - val_loss: 4.3867e-04\n",
            "Epoch 75/200\n",
            "44/44 [==============================] - 0s 7ms/step - loss: 2.1640e-04 - val_loss: 4.2372e-04\n",
            "Epoch 76/200\n",
            "44/44 [==============================] - 0s 7ms/step - loss: 1.3146e-04 - val_loss: 4.6247e-04\n",
            "Epoch 77/200\n",
            "44/44 [==============================] - 0s 7ms/step - loss: 1.8089e-04 - val_loss: 5.5090e-04\n",
            "Epoch 78/200\n",
            "44/44 [==============================] - 0s 7ms/step - loss: 1.3206e-04 - val_loss: 0.0012\n",
            "Epoch 79/200\n",
            "44/44 [==============================] - 0s 7ms/step - loss: 1.4378e-04 - val_loss: 0.0011\n",
            "Epoch 80/200\n",
            "44/44 [==============================] - 0s 7ms/step - loss: 1.1937e-04 - val_loss: 0.0010\n",
            "Epoch 81/200\n",
            "44/44 [==============================] - 0s 7ms/step - loss: 1.6118e-04 - val_loss: 4.2546e-04\n",
            "Epoch 82/200\n",
            "44/44 [==============================] - 0s 7ms/step - loss: 1.4462e-04 - val_loss: 4.6536e-04\n",
            "Epoch 83/200\n",
            "44/44 [==============================] - 0s 7ms/step - loss: 1.4022e-04 - val_loss: 9.0636e-04\n",
            "Epoch 84/200\n",
            "44/44 [==============================] - 0s 7ms/step - loss: 1.4423e-04 - val_loss: 3.9143e-04\n",
            "Epoch 85/200\n",
            "44/44 [==============================] - 0s 7ms/step - loss: 1.3013e-04 - val_loss: 3.8988e-04\n",
            "Epoch 86/200\n",
            "44/44 [==============================] - 0s 7ms/step - loss: 1.3564e-04 - val_loss: 7.3379e-04\n",
            "Epoch 87/200\n",
            "44/44 [==============================] - 0s 7ms/step - loss: 1.8665e-04 - val_loss: 4.1612e-04\n",
            "Epoch 88/200\n",
            "44/44 [==============================] - 0s 8ms/step - loss: 1.4683e-04 - val_loss: 4.5945e-04\n",
            "Epoch 89/200\n",
            "44/44 [==============================] - 0s 7ms/step - loss: 1.1895e-04 - val_loss: 3.9456e-04\n",
            "Epoch 90/200\n",
            "44/44 [==============================] - 0s 7ms/step - loss: 1.8828e-04 - val_loss: 6.1012e-04\n",
            "Epoch 91/200\n",
            "44/44 [==============================] - 0s 7ms/step - loss: 1.7047e-04 - val_loss: 6.8056e-04\n",
            "Epoch 92/200\n",
            "44/44 [==============================] - 0s 8ms/step - loss: 1.1535e-04 - val_loss: 4.2084e-04\n",
            "Epoch 93/200\n",
            "44/44 [==============================] - 0s 7ms/step - loss: 1.2580e-04 - val_loss: 4.9186e-04\n",
            "Epoch 94/200\n",
            "44/44 [==============================] - 0s 7ms/step - loss: 1.1859e-04 - val_loss: 7.4082e-04\n",
            "Epoch 95/200\n",
            "44/44 [==============================] - 0s 7ms/step - loss: 1.7818e-04 - val_loss: 5.7483e-04\n",
            "Epoch 96/200\n",
            "44/44 [==============================] - 0s 7ms/step - loss: 1.4978e-04 - val_loss: 5.4876e-04\n",
            "Epoch 97/200\n",
            "44/44 [==============================] - 0s 7ms/step - loss: 1.2364e-04 - val_loss: 8.9895e-04\n",
            "Epoch 98/200\n",
            "44/44 [==============================] - 0s 7ms/step - loss: 1.3138e-04 - val_loss: 7.1739e-04\n",
            "Epoch 99/200\n",
            "44/44 [==============================] - 0s 8ms/step - loss: 1.2623e-04 - val_loss: 0.0017\n",
            "Epoch 100/200\n",
            "44/44 [==============================] - 0s 7ms/step - loss: 1.4522e-04 - val_loss: 0.0011\n",
            "Epoch 101/200\n",
            "44/44 [==============================] - 0s 7ms/step - loss: 1.3211e-04 - val_loss: 3.8130e-04\n",
            "Epoch 102/200\n",
            "44/44 [==============================] - 0s 7ms/step - loss: 1.5380e-04 - val_loss: 0.0010\n",
            "Epoch 103/200\n",
            "44/44 [==============================] - 0s 7ms/step - loss: 1.1752e-04 - val_loss: 3.6453e-04\n",
            "Epoch 104/200\n",
            "44/44 [==============================] - 0s 7ms/step - loss: 1.1764e-04 - val_loss: 8.4280e-04\n",
            "Epoch 105/200\n",
            "44/44 [==============================] - 0s 8ms/step - loss: 1.7658e-04 - val_loss: 3.6695e-04\n",
            "Epoch 106/200\n",
            "44/44 [==============================] - 0s 8ms/step - loss: 1.2628e-04 - val_loss: 3.5235e-04\n",
            "Epoch 107/200\n",
            "44/44 [==============================] - 0s 7ms/step - loss: 1.2140e-04 - val_loss: 4.0212e-04\n",
            "Epoch 108/200\n",
            "44/44 [==============================] - 0s 7ms/step - loss: 1.2565e-04 - val_loss: 7.6192e-04\n",
            "Epoch 109/200\n",
            "44/44 [==============================] - 0s 7ms/step - loss: 1.6534e-04 - val_loss: 5.1140e-04\n",
            "Epoch 110/200\n",
            "44/44 [==============================] - 0s 7ms/step - loss: 1.2180e-04 - val_loss: 3.9841e-04\n",
            "Epoch 111/200\n",
            "44/44 [==============================] - 0s 8ms/step - loss: 1.2163e-04 - val_loss: 5.1116e-04\n",
            "Epoch 112/200\n",
            "44/44 [==============================] - 0s 7ms/step - loss: 1.1621e-04 - val_loss: 3.4371e-04\n",
            "Epoch 113/200\n",
            "44/44 [==============================] - 0s 7ms/step - loss: 1.2463e-04 - val_loss: 3.5279e-04\n",
            "Epoch 114/200\n",
            "44/44 [==============================] - 0s 8ms/step - loss: 1.5168e-04 - val_loss: 0.0016\n",
            "Epoch 115/200\n",
            "44/44 [==============================] - 0s 8ms/step - loss: 1.3553e-04 - val_loss: 7.5305e-04\n",
            "Epoch 116/200\n",
            "44/44 [==============================] - 0s 8ms/step - loss: 1.1885e-04 - val_loss: 6.7278e-04\n",
            "Epoch 117/200\n",
            "44/44 [==============================] - 0s 7ms/step - loss: 1.2779e-04 - val_loss: 3.3196e-04\n",
            "Epoch 118/200\n",
            "44/44 [==============================] - 0s 8ms/step - loss: 1.1507e-04 - val_loss: 6.7009e-04\n",
            "Epoch 119/200\n",
            "44/44 [==============================] - 0s 8ms/step - loss: 9.9056e-05 - val_loss: 6.6307e-04\n",
            "Epoch 120/200\n",
            "44/44 [==============================] - 0s 7ms/step - loss: 1.1348e-04 - val_loss: 3.2760e-04\n",
            "Epoch 121/200\n",
            "44/44 [==============================] - 0s 7ms/step - loss: 1.2682e-04 - val_loss: 5.5206e-04\n",
            "Epoch 122/200\n",
            "44/44 [==============================] - 0s 7ms/step - loss: 1.1772e-04 - val_loss: 3.8167e-04\n",
            "Epoch 123/200\n",
            "44/44 [==============================] - 0s 7ms/step - loss: 1.2176e-04 - val_loss: 6.3715e-04\n",
            "Epoch 124/200\n",
            "44/44 [==============================] - 0s 8ms/step - loss: 1.4018e-04 - val_loss: 6.1675e-04\n",
            "Epoch 125/200\n",
            "44/44 [==============================] - 0s 7ms/step - loss: 1.1836e-04 - val_loss: 5.7858e-04\n",
            "Epoch 126/200\n",
            "44/44 [==============================] - 0s 8ms/step - loss: 1.2016e-04 - val_loss: 4.0209e-04\n",
            "Epoch 127/200\n",
            "44/44 [==============================] - 0s 8ms/step - loss: 1.2187e-04 - val_loss: 3.3787e-04\n",
            "Epoch 128/200\n",
            "44/44 [==============================] - 0s 7ms/step - loss: 1.2149e-04 - val_loss: 9.7244e-04\n",
            "Epoch 129/200\n",
            "44/44 [==============================] - 0s 7ms/step - loss: 1.3908e-04 - val_loss: 3.2924e-04\n",
            "Epoch 130/200\n",
            "44/44 [==============================] - 0s 8ms/step - loss: 9.3147e-05 - val_loss: 4.8489e-04\n",
            "Epoch 131/200\n",
            "44/44 [==============================] - 0s 7ms/step - loss: 1.0772e-04 - val_loss: 3.0715e-04\n",
            "Epoch 132/200\n",
            "44/44 [==============================] - 0s 7ms/step - loss: 1.3297e-04 - val_loss: 6.1619e-04\n",
            "Epoch 133/200\n",
            "44/44 [==============================] - 0s 8ms/step - loss: 1.0614e-04 - val_loss: 3.6209e-04\n",
            "Epoch 134/200\n",
            "44/44 [==============================] - 0s 7ms/step - loss: 1.0608e-04 - val_loss: 0.0016\n",
            "Epoch 135/200\n",
            "44/44 [==============================] - 0s 8ms/step - loss: 1.2055e-04 - val_loss: 3.4851e-04\n",
            "Epoch 136/200\n",
            "44/44 [==============================] - 0s 7ms/step - loss: 1.2105e-04 - val_loss: 3.5819e-04\n",
            "Epoch 137/200\n",
            "44/44 [==============================] - 0s 7ms/step - loss: 8.9445e-05 - val_loss: 3.4885e-04\n",
            "Epoch 138/200\n",
            "44/44 [==============================] - 0s 7ms/step - loss: 1.1568e-04 - val_loss: 3.3639e-04\n",
            "Epoch 139/200\n",
            "44/44 [==============================] - 0s 7ms/step - loss: 1.0908e-04 - val_loss: 3.6908e-04\n",
            "Epoch 140/200\n",
            "44/44 [==============================] - 0s 7ms/step - loss: 1.2996e-04 - val_loss: 3.4854e-04\n",
            "Epoch 141/200\n",
            "44/44 [==============================] - 0s 8ms/step - loss: 1.0490e-04 - val_loss: 3.4001e-04\n",
            "Epoch 142/200\n",
            "44/44 [==============================] - 0s 7ms/step - loss: 2.0010e-04 - val_loss: 3.3473e-04\n",
            "Epoch 143/200\n",
            "44/44 [==============================] - 0s 7ms/step - loss: 1.3592e-04 - val_loss: 3.2759e-04\n",
            "Epoch 144/200\n",
            "44/44 [==============================] - 0s 7ms/step - loss: 9.9186e-05 - val_loss: 3.3027e-04\n",
            "Epoch 145/200\n",
            "44/44 [==============================] - 0s 7ms/step - loss: 1.0793e-04 - val_loss: 3.2048e-04\n",
            "Epoch 146/200\n",
            "44/44 [==============================] - 0s 7ms/step - loss: 9.9736e-05 - val_loss: 2.9312e-04\n",
            "Epoch 147/200\n",
            "44/44 [==============================] - 0s 7ms/step - loss: 1.1081e-04 - val_loss: 2.9344e-04\n",
            "Epoch 148/200\n",
            "44/44 [==============================] - 0s 7ms/step - loss: 1.0236e-04 - val_loss: 2.8835e-04\n",
            "Epoch 149/200\n",
            "44/44 [==============================] - 0s 7ms/step - loss: 1.1506e-04 - val_loss: 2.8769e-04\n",
            "Epoch 150/200\n",
            "44/44 [==============================] - 0s 7ms/step - loss: 1.1221e-04 - val_loss: 4.0807e-04\n",
            "Epoch 151/200\n",
            "44/44 [==============================] - 0s 7ms/step - loss: 1.1333e-04 - val_loss: 3.6814e-04\n",
            "Epoch 152/200\n",
            "44/44 [==============================] - 0s 7ms/step - loss: 1.1308e-04 - val_loss: 3.3069e-04\n",
            "Epoch 153/200\n",
            "44/44 [==============================] - 0s 7ms/step - loss: 1.3566e-04 - val_loss: 3.0649e-04\n",
            "Epoch 154/200\n",
            "44/44 [==============================] - 0s 7ms/step - loss: 1.0988e-04 - val_loss: 5.4100e-04\n",
            "Epoch 155/200\n",
            "44/44 [==============================] - 0s 7ms/step - loss: 1.0755e-04 - val_loss: 0.0018\n",
            "Epoch 156/200\n",
            "44/44 [==============================] - 0s 7ms/step - loss: 1.3933e-04 - val_loss: 5.1315e-04\n",
            "Epoch 157/200\n",
            "44/44 [==============================] - 0s 7ms/step - loss: 9.9510e-05 - val_loss: 0.0011\n",
            "Epoch 158/200\n",
            "44/44 [==============================] - 0s 8ms/step - loss: 1.1136e-04 - val_loss: 4.1243e-04\n",
            "Epoch 159/200\n",
            "44/44 [==============================] - 0s 7ms/step - loss: 1.0153e-04 - val_loss: 3.7600e-04\n",
            "Epoch 160/200\n",
            "44/44 [==============================] - 0s 7ms/step - loss: 9.4506e-05 - val_loss: 3.7071e-04\n",
            "Epoch 161/200\n",
            "44/44 [==============================] - 0s 7ms/step - loss: 1.0058e-04 - val_loss: 3.5268e-04\n",
            "Epoch 162/200\n",
            "44/44 [==============================] - 0s 8ms/step - loss: 9.3032e-05 - val_loss: 4.5927e-04\n",
            "Epoch 163/200\n",
            "44/44 [==============================] - 0s 7ms/step - loss: 1.2057e-04 - val_loss: 2.9423e-04\n",
            "Epoch 164/200\n",
            "44/44 [==============================] - 0s 8ms/step - loss: 9.6191e-05 - val_loss: 0.0014\n",
            "Epoch 165/200\n",
            "44/44 [==============================] - 0s 7ms/step - loss: 1.0339e-04 - val_loss: 4.3226e-04\n",
            "Epoch 166/200\n",
            "44/44 [==============================] - 0s 8ms/step - loss: 1.0745e-04 - val_loss: 2.7847e-04\n",
            "Epoch 167/200\n",
            "44/44 [==============================] - 0s 8ms/step - loss: 1.0818e-04 - val_loss: 3.4227e-04\n",
            "Epoch 168/200\n",
            "44/44 [==============================] - 0s 7ms/step - loss: 8.6317e-05 - val_loss: 3.5389e-04\n",
            "Epoch 169/200\n",
            "44/44 [==============================] - 0s 7ms/step - loss: 1.1156e-04 - val_loss: 5.5375e-04\n",
            "Epoch 170/200\n",
            "44/44 [==============================] - 0s 8ms/step - loss: 7.7789e-05 - val_loss: 2.9867e-04\n",
            "Epoch 171/200\n",
            "44/44 [==============================] - 0s 7ms/step - loss: 9.6955e-05 - val_loss: 0.0010\n",
            "Epoch 172/200\n",
            "44/44 [==============================] - 0s 7ms/step - loss: 7.8308e-05 - val_loss: 4.2238e-04\n",
            "Epoch 173/200\n",
            "44/44 [==============================] - 0s 7ms/step - loss: 1.0323e-04 - val_loss: 4.9093e-04\n",
            "Epoch 174/200\n",
            "44/44 [==============================] - 0s 7ms/step - loss: 8.9181e-05 - val_loss: 2.8356e-04\n",
            "Epoch 175/200\n",
            "44/44 [==============================] - 0s 7ms/step - loss: 7.7960e-05 - val_loss: 3.6292e-04\n",
            "Epoch 176/200\n",
            "44/44 [==============================] - 0s 7ms/step - loss: 1.0780e-04 - val_loss: 3.0711e-04\n",
            "Epoch 177/200\n",
            "44/44 [==============================] - 0s 8ms/step - loss: 1.0656e-04 - val_loss: 0.0022\n",
            "Epoch 178/200\n",
            "44/44 [==============================] - 0s 7ms/step - loss: 1.4773e-04 - val_loss: 3.1758e-04\n",
            "Epoch 179/200\n",
            "44/44 [==============================] - 0s 8ms/step - loss: 1.1594e-04 - val_loss: 2.7823e-04\n",
            "Epoch 180/200\n",
            "44/44 [==============================] - 0s 7ms/step - loss: 1.0100e-04 - val_loss: 2.7490e-04\n",
            "Epoch 181/200\n",
            "44/44 [==============================] - 0s 7ms/step - loss: 1.3892e-04 - val_loss: 4.6898e-04\n",
            "Epoch 182/200\n",
            "44/44 [==============================] - 0s 8ms/step - loss: 1.1448e-04 - val_loss: 3.6564e-04\n",
            "Epoch 183/200\n",
            "44/44 [==============================] - 0s 7ms/step - loss: 1.0535e-04 - val_loss: 3.2101e-04\n",
            "Epoch 184/200\n",
            "44/44 [==============================] - 0s 7ms/step - loss: 8.7725e-05 - val_loss: 2.9632e-04\n",
            "Epoch 185/200\n",
            "44/44 [==============================] - 0s 8ms/step - loss: 9.6750e-05 - val_loss: 3.6865e-04\n",
            "Epoch 186/200\n",
            "44/44 [==============================] - 0s 7ms/step - loss: 1.0609e-04 - val_loss: 3.0088e-04\n",
            "Epoch 187/200\n",
            "44/44 [==============================] - 0s 7ms/step - loss: 8.6329e-05 - val_loss: 3.1645e-04\n",
            "Epoch 188/200\n",
            "44/44 [==============================] - 0s 8ms/step - loss: 9.5158e-05 - val_loss: 2.7294e-04\n",
            "Epoch 189/200\n",
            "44/44 [==============================] - 0s 8ms/step - loss: 9.0268e-05 - val_loss: 4.3156e-04\n",
            "Epoch 190/200\n",
            "44/44 [==============================] - 0s 7ms/step - loss: 1.0354e-04 - val_loss: 3.1956e-04\n",
            "Epoch 191/200\n",
            "44/44 [==============================] - 0s 7ms/step - loss: 8.1337e-05 - val_loss: 5.5238e-04\n",
            "Epoch 192/200\n",
            "44/44 [==============================] - 0s 8ms/step - loss: 8.3129e-05 - val_loss: 0.0017\n",
            "Epoch 193/200\n",
            "44/44 [==============================] - 0s 7ms/step - loss: 1.2956e-04 - val_loss: 4.1832e-04\n",
            "Epoch 194/200\n",
            "44/44 [==============================] - 0s 7ms/step - loss: 7.5550e-05 - val_loss: 4.2822e-04\n",
            "Epoch 195/200\n",
            "44/44 [==============================] - 0s 8ms/step - loss: 8.6209e-05 - val_loss: 4.4420e-04\n",
            "Epoch 196/200\n",
            "44/44 [==============================] - 0s 7ms/step - loss: 8.5423e-05 - val_loss: 2.7615e-04\n",
            "Epoch 197/200\n",
            "44/44 [==============================] - 0s 7ms/step - loss: 9.3386e-05 - val_loss: 5.2922e-04\n",
            "Epoch 198/200\n",
            "44/44 [==============================] - 0s 8ms/step - loss: 1.0506e-04 - val_loss: 3.3041e-04\n",
            "Epoch 199/200\n",
            "44/44 [==============================] - 0s 7ms/step - loss: 8.5229e-05 - val_loss: 3.5908e-04\n",
            "Epoch 200/200\n",
            "44/44 [==============================] - 0s 7ms/step - loss: 8.0642e-05 - val_loss: 4.0477e-04\n"
          ],
          "name": "stdout"
        },
        {
          "output_type": "execute_result",
          "data": {
            "text/plain": [
              "<tensorflow.python.keras.callbacks.History at 0x7ff951f3d850>"
            ]
          },
          "metadata": {
            "tags": []
          },
          "execution_count": 713
        }
      ]
    },
    {
      "cell_type": "code",
      "metadata": {
        "id": "fS6-WlVnWTfG"
      },
      "source": [
        "train_predict = model.predict(X_train)\n",
        "test_predict = model.predict(X_test)\n",
        "\n",
        "##Transformback to original form\n",
        "train_predict = scaler.inverse_transform(train_predict)\n",
        "test_predict = scaler.inverse_transform(test_predict)\n",
        "\n",
        "true = scaler.inverse_transform(scaled_data[training_size:,:1])\n",
        "true = true[time_step:-1]"
      ],
      "execution_count": 714,
      "outputs": []
    },
    {
      "cell_type": "code",
      "metadata": {
        "colab": {
          "base_uri": "https://localhost:8080/",
          "height": 594
        },
        "id": "dRwvCRqQWTjA",
        "outputId": "2129fc42-d267-4a8e-d0cc-ddc121d78138"
      },
      "source": [
        "figure(figsize=(16, 9), dpi=80)\n",
        "plt.plot(test_predict, label = \"Predict\")\n",
        "plt.plot(true, label = \"true\")\n",
        "plt.legend()\n",
        "plt.show()"
      ],
      "execution_count": 715,
      "outputs": [
        {
          "output_type": "display_data",
          "data": {
            "image/png": "[encoded data removed]",
            "text/plain": [
              "<Figure size 1280x720 with 1 Axes>"
            ]
          },
          "metadata": {
            "tags": [],
            "needs_background": "light"
          }
        }
      ]
    },
    {
      "cell_type": "code",
      "metadata": {
        "id": "eCRUA44lYAgX"
      },
      "source": [
        "true_list = []\n",
        "pred = []\n",
        "for i in range(len(test_predict)):\n",
        "  pred.append(test_predict[i][0])\n",
        "  true_list.append(true[i][0])"
      ],
      "execution_count": 716,
      "outputs": []
    },
    {
      "cell_type": "code",
      "metadata": {
        "colab": {
          "base_uri": "https://localhost:8080/",
          "height": 1000
        },
        "id": "OA0UKq0MYpjx",
        "outputId": "2f9b1c20-715c-4d0e-cc32-f1882ea2f350"
      },
      "source": [
        "df = pd.DataFrame()\n",
        "df[\"ture\"] = true_list\n",
        "df[\"pred\"] = pred\n",
        "df"
      ],
      "execution_count": 717,
      "outputs": [
        {
          "output_type": "execute_result",
          "data": {
            "text/html": [
              "<div>\n",
              "<style scoped>\n",
              "    .dataframe tbody tr th:only-of-type {\n",
              "        vertical-align: middle;\n",
              "    }\n",
              "\n",
              "    .dataframe tbody tr th {\n",
              "        vertical-align: top;\n",
              "    }\n",
              "\n",
              "    .dataframe thead th {\n",
              "        text-align: right;\n",
              "    }\n",
              "</style>\n",
              "<table border=\"1\" class=\"dataframe\">\n",
              "  <thead>\n",
              "    <tr style=\"text-align: right;\">\n",
              "      <th></th>\n",
              "      <th>ture</th>\n",
              "      <th>pred</th>\n",
              "    </tr>\n",
              "  </thead>\n",
              "  <tbody>\n",
              "    <tr>\n",
              "      <th>0</th>\n",
              "      <td>136.910004</td>\n",
              "      <td>133.381500</td>\n",
              "    </tr>\n",
              "    <tr>\n",
              "      <th>1</th>\n",
              "      <td>136.009995</td>\n",
              "      <td>133.561478</td>\n",
              "    </tr>\n",
              "    <tr>\n",
              "      <th>2</th>\n",
              "      <td>135.389999</td>\n",
              "      <td>133.051743</td>\n",
              "    </tr>\n",
              "    <tr>\n",
              "      <th>3</th>\n",
              "      <td>135.130005</td>\n",
              "      <td>132.595062</td>\n",
              "    </tr>\n",
              "    <tr>\n",
              "      <th>4</th>\n",
              "      <td>135.369995</td>\n",
              "      <td>132.278488</td>\n",
              "    </tr>\n",
              "    <tr>\n",
              "      <th>5</th>\n",
              "      <td>133.190002</td>\n",
              "      <td>132.339981</td>\n",
              "    </tr>\n",
              "    <tr>\n",
              "      <th>6</th>\n",
              "      <td>130.839996</td>\n",
              "      <td>130.950500</td>\n",
              "    </tr>\n",
              "    <tr>\n",
              "      <th>7</th>\n",
              "      <td>129.710007</td>\n",
              "      <td>129.095947</td>\n",
              "    </tr>\n",
              "    <tr>\n",
              "      <th>8</th>\n",
              "      <td>129.869995</td>\n",
              "      <td>127.872810</td>\n",
              "    </tr>\n",
              "    <tr>\n",
              "      <th>9</th>\n",
              "      <td>126.000000</td>\n",
              "      <td>127.596466</td>\n",
              "    </tr>\n",
              "    <tr>\n",
              "      <th>10</th>\n",
              "      <td>125.860001</td>\n",
              "      <td>125.050262</td>\n",
              "    </tr>\n",
              "    <tr>\n",
              "      <th>11</th>\n",
              "      <td>125.349998</td>\n",
              "      <td>124.166916</td>\n",
              "    </tr>\n",
              "    <tr>\n",
              "      <th>12</th>\n",
              "      <td>120.989998</td>\n",
              "      <td>123.578583</td>\n",
              "    </tr>\n",
              "    <tr>\n",
              "      <th>13</th>\n",
              "      <td>121.260002</td>\n",
              "      <td>120.712898</td>\n",
              "    </tr>\n",
              "    <tr>\n",
              "      <th>14</th>\n",
              "      <td>127.790001</td>\n",
              "      <td>119.884781</td>\n",
              "    </tr>\n",
              "    <tr>\n",
              "      <th>15</th>\n",
              "      <td>125.120003</td>\n",
              "      <td>123.610039</td>\n",
              "    </tr>\n",
              "    <tr>\n",
              "      <th>16</th>\n",
              "      <td>122.059998</td>\n",
              "      <td>123.118263</td>\n",
              "    </tr>\n",
              "    <tr>\n",
              "      <th>17</th>\n",
              "      <td>120.129997</td>\n",
              "      <td>121.033089</td>\n",
              "    </tr>\n",
              "    <tr>\n",
              "      <th>18</th>\n",
              "      <td>121.419998</td>\n",
              "      <td>119.329239</td>\n",
              "    </tr>\n",
              "    <tr>\n",
              "      <th>19</th>\n",
              "      <td>116.360001</td>\n",
              "      <td>119.622635</td>\n",
              "    </tr>\n",
              "    <tr>\n",
              "      <th>20</th>\n",
              "      <td>121.089996</td>\n",
              "      <td>116.557098</td>\n",
              "    </tr>\n",
              "    <tr>\n",
              "      <th>21</th>\n",
              "      <td>119.980003</td>\n",
              "      <td>118.273018</td>\n",
              "    </tr>\n",
              "    <tr>\n",
              "      <th>22</th>\n",
              "      <td>121.959999</td>\n",
              "      <td>118.229172</td>\n",
              "    </tr>\n",
              "    <tr>\n",
              "      <th>23</th>\n",
              "      <td>121.029999</td>\n",
              "      <td>119.384148</td>\n",
              "    </tr>\n",
              "    <tr>\n",
              "      <th>24</th>\n",
              "      <td>123.989998</td>\n",
              "      <td>119.164062</td>\n",
              "    </tr>\n",
              "    <tr>\n",
              "      <th>25</th>\n",
              "      <td>125.570000</td>\n",
              "      <td>121.000511</td>\n",
              "    </tr>\n",
              "    <tr>\n",
              "      <th>26</th>\n",
              "      <td>124.760002</td>\n",
              "      <td>122.530502</td>\n",
              "    </tr>\n",
              "    <tr>\n",
              "      <th>27</th>\n",
              "      <td>120.529999</td>\n",
              "      <td>122.555206</td>\n",
              "    </tr>\n",
              "    <tr>\n",
              "      <th>28</th>\n",
              "      <td>119.989998</td>\n",
              "      <td>119.996521</td>\n",
              "    </tr>\n",
              "    <tr>\n",
              "      <th>29</th>\n",
              "      <td>123.389999</td>\n",
              "      <td>118.927902</td>\n",
              "    </tr>\n",
              "    <tr>\n",
              "      <th>30</th>\n",
              "      <td>122.540001</td>\n",
              "      <td>120.608994</td>\n",
              "    </tr>\n",
              "    <tr>\n",
              "      <th>31</th>\n",
              "      <td>120.089996</td>\n",
              "      <td>120.585220</td>\n",
              "    </tr>\n",
              "    <tr>\n",
              "      <th>32</th>\n",
              "      <td>120.589996</td>\n",
              "      <td>119.021088</td>\n",
              "    </tr>\n",
              "    <tr>\n",
              "      <th>33</th>\n",
              "      <td>121.209999</td>\n",
              "      <td>118.873299</td>\n",
              "    </tr>\n",
              "    <tr>\n",
              "      <th>34</th>\n",
              "      <td>121.389999</td>\n",
              "      <td>119.255135</td>\n",
              "    </tr>\n",
              "    <tr>\n",
              "      <th>35</th>\n",
              "      <td>119.900002</td>\n",
              "      <td>119.417717</td>\n",
              "    </tr>\n",
              "    <tr>\n",
              "      <th>36</th>\n",
              "      <td>122.150002</td>\n",
              "      <td>118.544846</td>\n",
              "    </tr>\n",
              "  </tbody>\n",
              "</table>\n",
              "</div>"
            ],
            "text/plain": [
              "          ture        pred\n",
              "0   136.910004  133.381500\n",
              "1   136.009995  133.561478\n",
              "2   135.389999  133.051743\n",
              "3   135.130005  132.595062\n",
              "4   135.369995  132.278488\n",
              "5   133.190002  132.339981\n",
              "6   130.839996  130.950500\n",
              "7   129.710007  129.095947\n",
              "8   129.869995  127.872810\n",
              "9   126.000000  127.596466\n",
              "10  125.860001  125.050262\n",
              "11  125.349998  124.166916\n",
              "12  120.989998  123.578583\n",
              "13  121.260002  120.712898\n",
              "14  127.790001  119.884781\n",
              "15  125.120003  123.610039\n",
              "16  122.059998  123.118263\n",
              "17  120.129997  121.033089\n",
              "18  121.419998  119.329239\n",
              "19  116.360001  119.622635\n",
              "20  121.089996  116.557098\n",
              "21  119.980003  118.273018\n",
              "22  121.959999  118.229172\n",
              "23  121.029999  119.384148\n",
              "24  123.989998  119.164062\n",
              "25  125.570000  121.000511\n",
              "26  124.760002  122.530502\n",
              "27  120.529999  122.555206\n",
              "28  119.989998  119.996521\n",
              "29  123.389999  118.927902\n",
              "30  122.540001  120.608994\n",
              "31  120.089996  120.585220\n",
              "32  120.589996  119.021088\n",
              "33  121.209999  118.873299\n",
              "34  121.389999  119.255135\n",
              "35  119.900002  119.417717\n",
              "36  122.150002  118.544846"
            ]
          },
          "metadata": {
            "tags": []
          },
          "execution_count": 717
        }
      ]
    },
    {
      "cell_type": "code",
      "metadata": {
        "colab": {
          "base_uri": "https://localhost:8080/"
        },
        "id": "wfKZ_5vQeCfc",
        "outputId": "20a85d2d-3521-43eb-e3a2-dbf21062c9e6"
      },
      "source": [
        "ret = df.pct_change().iloc[1:,0]\n",
        "\n",
        "ret_list = [0]\n",
        "for el in ret:\n",
        "  ret_list.append(el)\n",
        "len(ret_list)"
      ],
      "execution_count": 718,
      "outputs": [
        {
          "output_type": "execute_result",
          "data": {
            "text/plain": [
              "37"
            ]
          },
          "metadata": {
            "tags": []
          },
          "execution_count": 718
        }
      ]
    },
    {
      "cell_type": "code",
      "metadata": {
        "id": "lVE2lMCRplJ1"
      },
      "source": [
        "ret_strat = [0]\n",
        "for i in range(len(ret)):\n",
        "  if pred[i+1] > pred[i]:\n",
        "    ret_strat.append(ret.iloc[i])\n",
        "  else:\n",
        "    ret_strat.append(0)"
      ],
      "execution_count": 719,
      "outputs": []
    },
    {
      "cell_type": "code",
      "metadata": {
        "colab": {
          "base_uri": "https://localhost:8080/",
          "height": 594
        },
        "id": "wvQ1PtzcqRN5",
        "outputId": "ba4fc266-3744-4ccd-c9b3-6c752c6e2965"
      },
      "source": [
        "figure(figsize=(16, 9), dpi=80)\n",
        "plt.plot((np.array(ret_list)+1).cumprod(), label = \"true\")\n",
        "\n",
        "to_plot = (np.array(ret_strat)+1).cumprod()\n",
        "\n",
        "plt.plot(to_plot, label= \"strategy\", alpha = 0.5)\n",
        "plt.legend()\n",
        "plt.show()"
      ],
      "execution_count": 720,
      "outputs": [
        {
          "output_type": "display_data",
          "data": {
            "image/png": "[encoded data removed]",
            "text/plain": [
              "<Figure size 1280x720 with 1 Axes>"
            ]
          },
          "metadata": {
            "tags": [],
            "needs_background": "light"
          }
        }
      ]
    },
    {
      "cell_type": "code",
      "metadata": {
        "id": "DDyyRUkMFLJO"
      },
      "source": [
        ""
      ],
      "execution_count": null,
      "outputs": []
    }
  ]
}