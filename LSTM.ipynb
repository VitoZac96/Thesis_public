{
  "nbformat": 4,
  "nbformat_minor": 0,
  "metadata": {
    "colab": {
      "name": "LSTM.ipynb",
      "provenance": [],
      "authorship_tag": "ABX9TyOE25mpP0cQDox/UejSTNYi",
      "include_colab_link": true
    },
    "kernelspec": {
      "name": "python3",
      "display_name": "Python 3"
    },
    "language_info": {
      "name": "python"
    },
    "accelerator": "GPU"
  },
  "cells": [
    {
      "cell_type": "markdown",
      "metadata": {
        "id": "view-in-github",
        "colab_type": "text"
      },
      "source": [
        "<a href=\"https://colab.research.google.com/github/VitoZac96/Thesis_public/blob/main/LSTM.ipynb\" target=\"_parent\"><img src=\"https://colab.research.google.com/assets/colab-badge.svg\" alt=\"Open In Colab\"/></a>"
      ]
    },
    {
      "cell_type": "code",
      "metadata": {
        "id": "YMIoNYz3Us-x"
      },
      "source": [
        "import numpy as np # linear algebra\n",
        "import pandas as pd # data processing, CSV file I/O (e.g. pd.read_csv)\n",
        "\n",
        "from subprocess import check_output\n",
        "from keras.layers.core import Dense, Activation, Dropout\n",
        "from keras.layers.recurrent import LSTM\n",
        "from keras.models import Sequential\n",
        "from sklearn.model_selection import train_test_split\n",
        "import time #helper libraries\n",
        "from sklearn.preprocessing import MinMaxScaler\n",
        "import matplotlib.pyplot as plt\n",
        "from numpy import newaxis\n",
        "\n",
        "from matplotlib.pyplot import figure"
      ],
      "execution_count": 1,
      "outputs": []
    },
    {
      "cell_type": "code",
      "metadata": {
        "id": "_4p2zyBhUvNq"
      },
      "source": [
        "\n",
        "from tensorflow import keras\n",
        "from sklearn.model_selection import train_test_split\n",
        "import numpy as np\n",
        "import pandas as pd\n",
        "from keras.layers import Dropout\n",
        "import matplotlib.pyplot as plt\n",
        "from matplotlib.pyplot import figure\n",
        "from keras.callbacks import EarlyStopping\n",
        "from keras.models import Sequential"
      ],
      "execution_count": 2,
      "outputs": []
    },
    {
      "cell_type": "code",
      "metadata": {
        "id": "UopIwYUnthYX"
      },
      "source": [
        "!pip install yfinance\n",
        "!pip install yahoofinancials"
      ],
      "execution_count": null,
      "outputs": []
    },
    {
      "cell_type": "code",
      "metadata": {
        "id": "pRfusJu2thar"
      },
      "source": [
        "import yfinance as yf\n",
        "from yahoofinancials import YahooFinancials\n",
        "\n",
        "import numpy\n",
        "import pandas as pd\n",
        "\n",
        "\n",
        "from sklearn.preprocessing import MinMaxScaler\n",
        "from tensorflow.keras.models import Sequential\n",
        "from tensorflow.keras.layers import Dense\n",
        "from tensorflow.keras.layers import LSTM"
      ],
      "execution_count": 4,
      "outputs": []
    },
    {
      "cell_type": "code",
      "metadata": {
        "id": "ht_7pn4mthdB"
      },
      "source": [
        "# convert an array of values into a dataset matrix\n",
        "def create_dataset(dataset, time_step=1):\n",
        "\n",
        "\tdataX, dataY = [], []\n",
        "  \n",
        "\tfor i in range(len(dataset)-time_step-1):\n",
        "\t\ta = dataset[i:(i+time_step), 0]   ###i=0, 0,1,2,3-----99   100 \n",
        "\t\tdataX.append(a)\n",
        "\t\tdataY.append(dataset[i + time_step, 0])\n",
        "\treturn numpy.array(dataX), numpy.array(dataY)"
      ],
      "execution_count": null,
      "outputs": []
    },
    {
      "cell_type": "code",
      "metadata": {
        "id": "9HyMF28FU0xI"
      },
      "source": [
        "data = yf.download('AMZN', \n",
        "                      start='2015-01-01',    #'2015-07-07'\n",
        "                      end='2021-04-08', \n",
        "                      progress=False)\n",
        "\n",
        "data = data[\"Adj Close\"].values"
      ],
      "execution_count": 81,
      "outputs": []
    },
    {
      "cell_type": "code",
      "metadata": {
        "id": "KyQOzkmCU-Nl"
      },
      "source": [
        "scaler = MinMaxScaler(feature_range=(0,1))\n",
        "scaled_data = scaler.fit_transform(np.array(data).reshape(-1,1))"
      ],
      "execution_count": 82,
      "outputs": []
    },
    {
      "cell_type": "code",
      "metadata": {
        "id": "Nj7swe5D-l1A"
      },
      "source": [
        ""
      ],
      "execution_count": 82,
      "outputs": []
    },
    {
      "cell_type": "markdown",
      "metadata": {
        "id": "UGAx0VtB-m3H"
      },
      "source": [
        "# For Training the model"
      ]
    },
    {
      "cell_type": "code",
      "metadata": {
        "id": "9BirVA4kVWpP"
      },
      "source": [
        "##splitting dataset into train and test split\n",
        "training_size = int(len(scaled_data) * 0.97)\n",
        "test_size = len(scaled_data) - training_size\n",
        "\n",
        "train_data, test_data = scaled_data[0:training_size,:] , scaled_data[training_size:,:]"
      ],
      "execution_count": 72,
      "outputs": []
    },
    {
      "cell_type": "markdown",
      "metadata": {
        "id": "IlJXBLFB-qZY"
      },
      "source": [
        "# For backtesting"
      ]
    },
    {
      "cell_type": "code",
      "metadata": {
        "id": "Q2rQN-de9kTe"
      },
      "source": [
        "backtest_days = 31\n",
        "\n",
        "train_data = scaled_data[:len(scaled_data)-1-backtest_days,:]\n",
        "test_data = scaled_data[len(scaled_data)-backtest_days:,:]"
      ],
      "execution_count": 120,
      "outputs": []
    },
    {
      "cell_type": "code",
      "metadata": {
        "colab": {
          "base_uri": "https://localhost:8080/"
        },
        "id": "4Z66cfNZ9kep",
        "outputId": "4608cd2f-6908-4fb3-82b1-57dea279befa"
      },
      "source": [
        "len(test_data)"
      ],
      "execution_count": 121,
      "outputs": [
        {
          "output_type": "execute_result",
          "data": {
            "text/plain": [
              "31"
            ]
          },
          "metadata": {
            "tags": []
          },
          "execution_count": 121
        }
      ]
    },
    {
      "cell_type": "code",
      "metadata": {
        "id": "yQYnEuAkVhVb"
      },
      "source": [
        "# reshape into X=t,t+1,t+2,t+3 and Y=t+4\n",
        "time_step = 20\n",
        "X_train, y_train = create_dataset(train_data, time_step)\n",
        "X_test, ytest = create_dataset(test_data, time_step)"
      ],
      "execution_count": 122,
      "outputs": []
    },
    {
      "cell_type": "code",
      "metadata": {
        "colab": {
          "base_uri": "https://localhost:8080/"
        },
        "id": "MSSHD62L5UMl",
        "outputId": "101b19f4-d376-4d0f-a943-86944633f06a"
      },
      "source": [
        "X_test.shape, ytest.shape"
      ],
      "execution_count": 123,
      "outputs": [
        {
          "output_type": "execute_result",
          "data": {
            "text/plain": [
              "((10, 20), (10,))"
            ]
          },
          "metadata": {
            "tags": []
          },
          "execution_count": 123
        }
      ]
    },
    {
      "cell_type": "code",
      "metadata": {
        "id": "q0IU9sNRWNCD"
      },
      "source": [
        "# reshape input to be [samples, time steps, features] which is required for LSTM\n",
        "X_train =X_train.reshape(X_train.shape[0],X_train.shape[1] , 1)\n",
        "X_test = X_test.reshape(X_test.shape[0],X_test.shape[1] , 1)"
      ],
      "execution_count": 124,
      "outputs": []
    },
    {
      "cell_type": "code",
      "metadata": {
        "id": "NNX2YU02WTaj"
      },
      "source": [
        "model=Sequential()\n",
        "model.add(LSTM(128,return_sequences=True,input_shape=(time_step,1)))\n",
        "model.add(Dropout(0.1))\n",
        "\n",
        "model.add(LSTM(60,return_sequences=True))\n",
        "#model.add(Dropout(0.1))\n",
        "\n",
        "model.add(LSTM(40))\n",
        "model.add(Dense(1))\n",
        "\n",
        "model.compile(loss='mean_squared_error',optimizer='adam')"
      ],
      "execution_count": 125,
      "outputs": []
    },
    {
      "cell_type": "code",
      "metadata": {
        "colab": {
          "base_uri": "https://localhost:8080/"
        },
        "id": "kxgLC5PNWTcz",
        "outputId": "509630b3-6763-425b-c696-1d2defbbcc69"
      },
      "source": [
        "history = model.fit(X_train,y_train,validation_data=(X_test,ytest),epochs=100,batch_size=64,verbose=1)"
      ],
      "execution_count": 126,
      "outputs": [
        {
          "output_type": "stream",
          "text": [
            "Epoch 1/100\n",
            "24/24 [==============================] - 36s 59ms/step - loss: 0.0568 - val_loss: 0.0013\n",
            "Epoch 2/100\n",
            "24/24 [==============================] - 0s 10ms/step - loss: 0.0019 - val_loss: 4.4936e-04\n",
            "Epoch 3/100\n",
            "24/24 [==============================] - 0s 10ms/step - loss: 8.3504e-04 - val_loss: 8.4600e-04\n",
            "Epoch 4/100\n",
            "24/24 [==============================] - 0s 11ms/step - loss: 7.0265e-04 - val_loss: 4.1649e-04\n",
            "Epoch 5/100\n",
            "24/24 [==============================] - 0s 10ms/step - loss: 6.2714e-04 - val_loss: 3.5391e-04\n",
            "Epoch 6/100\n",
            "24/24 [==============================] - 0s 10ms/step - loss: 6.3714e-04 - val_loss: 4.3411e-04\n",
            "Epoch 7/100\n",
            "24/24 [==============================] - 0s 10ms/step - loss: 5.5570e-04 - val_loss: 3.7731e-04\n",
            "Epoch 8/100\n",
            "24/24 [==============================] - 0s 10ms/step - loss: 6.1155e-04 - val_loss: 6.0088e-04\n",
            "Epoch 9/100\n",
            "24/24 [==============================] - 0s 10ms/step - loss: 6.7293e-04 - val_loss: 0.0011\n",
            "Epoch 10/100\n",
            "24/24 [==============================] - 0s 10ms/step - loss: 6.9988e-04 - val_loss: 7.9203e-04\n",
            "Epoch 11/100\n",
            "24/24 [==============================] - 0s 10ms/step - loss: 5.9172e-04 - val_loss: 7.2824e-04\n",
            "Epoch 12/100\n",
            "24/24 [==============================] - 0s 10ms/step - loss: 5.9432e-04 - val_loss: 3.7726e-04\n",
            "Epoch 13/100\n",
            "24/24 [==============================] - 0s 10ms/step - loss: 5.6918e-04 - val_loss: 4.1706e-04\n",
            "Epoch 14/100\n",
            "24/24 [==============================] - 0s 10ms/step - loss: 6.5483e-04 - val_loss: 7.5285e-04\n",
            "Epoch 15/100\n",
            "24/24 [==============================] - 0s 10ms/step - loss: 5.8173e-04 - val_loss: 5.0872e-04\n",
            "Epoch 16/100\n",
            "24/24 [==============================] - 0s 11ms/step - loss: 6.5438e-04 - val_loss: 3.7285e-04\n",
            "Epoch 17/100\n",
            "24/24 [==============================] - 0s 10ms/step - loss: 6.1988e-04 - val_loss: 4.8136e-04\n",
            "Epoch 18/100\n",
            "24/24 [==============================] - 0s 10ms/step - loss: 5.2311e-04 - val_loss: 3.6881e-04\n",
            "Epoch 19/100\n",
            "24/24 [==============================] - 0s 11ms/step - loss: 6.4149e-04 - val_loss: 8.5928e-04\n",
            "Epoch 20/100\n",
            "24/24 [==============================] - 0s 11ms/step - loss: 6.2914e-04 - val_loss: 4.0809e-04\n",
            "Epoch 21/100\n",
            "24/24 [==============================] - 0s 10ms/step - loss: 6.0271e-04 - val_loss: 5.2368e-04\n",
            "Epoch 22/100\n",
            "24/24 [==============================] - 0s 10ms/step - loss: 5.9206e-04 - val_loss: 8.0229e-04\n",
            "Epoch 23/100\n",
            "24/24 [==============================] - 0s 10ms/step - loss: 6.5257e-04 - val_loss: 4.1896e-04\n",
            "Epoch 24/100\n",
            "24/24 [==============================] - 0s 11ms/step - loss: 5.0999e-04 - val_loss: 0.0010\n",
            "Epoch 25/100\n",
            "24/24 [==============================] - 0s 10ms/step - loss: 5.4302e-04 - val_loss: 4.0465e-04\n",
            "Epoch 26/100\n",
            "24/24 [==============================] - 0s 11ms/step - loss: 5.0472e-04 - val_loss: 7.4459e-04\n",
            "Epoch 27/100\n",
            "24/24 [==============================] - 0s 10ms/step - loss: 6.2434e-04 - val_loss: 4.2070e-04\n",
            "Epoch 28/100\n",
            "24/24 [==============================] - 0s 10ms/step - loss: 5.2485e-04 - val_loss: 4.4387e-04\n",
            "Epoch 29/100\n",
            "24/24 [==============================] - 0s 10ms/step - loss: 5.4815e-04 - val_loss: 4.3441e-04\n",
            "Epoch 30/100\n",
            "24/24 [==============================] - 0s 10ms/step - loss: 5.0425e-04 - val_loss: 4.4202e-04\n",
            "Epoch 31/100\n",
            "24/24 [==============================] - 0s 10ms/step - loss: 5.0080e-04 - val_loss: 6.8989e-04\n",
            "Epoch 32/100\n",
            "24/24 [==============================] - 0s 10ms/step - loss: 4.8097e-04 - val_loss: 8.2448e-04\n",
            "Epoch 33/100\n",
            "24/24 [==============================] - 0s 10ms/step - loss: 4.5917e-04 - val_loss: 5.3469e-04\n",
            "Epoch 34/100\n",
            "24/24 [==============================] - 0s 10ms/step - loss: 6.1381e-04 - val_loss: 4.6588e-04\n",
            "Epoch 35/100\n",
            "24/24 [==============================] - 0s 10ms/step - loss: 4.6757e-04 - val_loss: 7.6596e-04\n",
            "Epoch 36/100\n",
            "24/24 [==============================] - 0s 11ms/step - loss: 4.6480e-04 - val_loss: 0.0013\n",
            "Epoch 37/100\n",
            "24/24 [==============================] - 0s 10ms/step - loss: 5.1846e-04 - val_loss: 4.9494e-04\n",
            "Epoch 38/100\n",
            "24/24 [==============================] - 0s 11ms/step - loss: 4.2664e-04 - val_loss: 4.2657e-04\n",
            "Epoch 39/100\n",
            "24/24 [==============================] - 0s 10ms/step - loss: 4.0636e-04 - val_loss: 4.5274e-04\n",
            "Epoch 40/100\n",
            "24/24 [==============================] - 0s 10ms/step - loss: 4.3136e-04 - val_loss: 6.9869e-04\n",
            "Epoch 41/100\n",
            "24/24 [==============================] - 0s 10ms/step - loss: 4.4376e-04 - val_loss: 6.6897e-04\n",
            "Epoch 42/100\n",
            "24/24 [==============================] - 0s 10ms/step - loss: 4.4135e-04 - val_loss: 7.1912e-04\n",
            "Epoch 43/100\n",
            "24/24 [==============================] - 0s 12ms/step - loss: 4.0072e-04 - val_loss: 5.1340e-04\n",
            "Epoch 44/100\n",
            "24/24 [==============================] - 0s 10ms/step - loss: 5.4898e-04 - val_loss: 4.5505e-04\n",
            "Epoch 45/100\n",
            "24/24 [==============================] - 0s 11ms/step - loss: 5.1620e-04 - val_loss: 6.2446e-04\n",
            "Epoch 46/100\n",
            "24/24 [==============================] - 0s 11ms/step - loss: 5.3879e-04 - val_loss: 8.3331e-04\n",
            "Epoch 47/100\n",
            "24/24 [==============================] - 0s 11ms/step - loss: 4.7776e-04 - val_loss: 8.4511e-04\n",
            "Epoch 48/100\n",
            "24/24 [==============================] - 0s 10ms/step - loss: 4.7577e-04 - val_loss: 5.8132e-04\n",
            "Epoch 49/100\n",
            "24/24 [==============================] - 0s 11ms/step - loss: 3.9575e-04 - val_loss: 4.4673e-04\n",
            "Epoch 50/100\n",
            "24/24 [==============================] - 0s 10ms/step - loss: 3.6057e-04 - val_loss: 7.2777e-04\n",
            "Epoch 51/100\n",
            "24/24 [==============================] - 0s 10ms/step - loss: 5.1957e-04 - val_loss: 4.9550e-04\n",
            "Epoch 52/100\n",
            "24/24 [==============================] - 0s 11ms/step - loss: 3.9127e-04 - val_loss: 8.7056e-04\n",
            "Epoch 53/100\n",
            "24/24 [==============================] - 0s 10ms/step - loss: 3.8761e-04 - val_loss: 4.9457e-04\n",
            "Epoch 54/100\n",
            "24/24 [==============================] - 0s 11ms/step - loss: 3.6562e-04 - val_loss: 5.5030e-04\n",
            "Epoch 55/100\n",
            "24/24 [==============================] - 0s 11ms/step - loss: 3.7340e-04 - val_loss: 6.0247e-04\n",
            "Epoch 56/100\n",
            "24/24 [==============================] - 0s 11ms/step - loss: 3.2890e-04 - val_loss: 6.9627e-04\n",
            "Epoch 57/100\n",
            "24/24 [==============================] - 0s 10ms/step - loss: 3.7515e-04 - val_loss: 5.4413e-04\n",
            "Epoch 58/100\n",
            "24/24 [==============================] - 0s 10ms/step - loss: 4.0278e-04 - val_loss: 6.4223e-04\n",
            "Epoch 59/100\n",
            "24/24 [==============================] - 0s 11ms/step - loss: 3.3234e-04 - val_loss: 8.2578e-04\n",
            "Epoch 60/100\n",
            "24/24 [==============================] - 0s 10ms/step - loss: 3.6599e-04 - val_loss: 5.5415e-04\n",
            "Epoch 61/100\n",
            "24/24 [==============================] - 0s 11ms/step - loss: 3.2382e-04 - val_loss: 4.4354e-04\n",
            "Epoch 62/100\n",
            "24/24 [==============================] - 0s 10ms/step - loss: 3.3243e-04 - val_loss: 4.5839e-04\n",
            "Epoch 63/100\n",
            "24/24 [==============================] - 0s 11ms/step - loss: 4.2088e-04 - val_loss: 4.3067e-04\n",
            "Epoch 64/100\n",
            "24/24 [==============================] - 0s 11ms/step - loss: 4.0172e-04 - val_loss: 9.4406e-04\n",
            "Epoch 65/100\n",
            "24/24 [==============================] - 0s 11ms/step - loss: 3.3612e-04 - val_loss: 5.2121e-04\n",
            "Epoch 66/100\n",
            "24/24 [==============================] - 0s 10ms/step - loss: 4.0931e-04 - val_loss: 0.0010\n",
            "Epoch 67/100\n",
            "24/24 [==============================] - 0s 11ms/step - loss: 3.3941e-04 - val_loss: 4.6745e-04\n",
            "Epoch 68/100\n",
            "24/24 [==============================] - 0s 10ms/step - loss: 3.6487e-04 - val_loss: 7.0792e-04\n",
            "Epoch 69/100\n",
            "24/24 [==============================] - 0s 11ms/step - loss: 3.0092e-04 - val_loss: 5.0278e-04\n",
            "Epoch 70/100\n",
            "24/24 [==============================] - 0s 11ms/step - loss: 3.9830e-04 - val_loss: 0.0019\n",
            "Epoch 71/100\n",
            "24/24 [==============================] - 0s 12ms/step - loss: 4.3982e-04 - val_loss: 6.5467e-04\n",
            "Epoch 72/100\n",
            "24/24 [==============================] - 0s 10ms/step - loss: 3.9104e-04 - val_loss: 8.1069e-04\n",
            "Epoch 73/100\n",
            "24/24 [==============================] - 0s 10ms/step - loss: 3.1470e-04 - val_loss: 5.5145e-04\n",
            "Epoch 74/100\n",
            "24/24 [==============================] - 0s 10ms/step - loss: 2.9234e-04 - val_loss: 3.8615e-04\n",
            "Epoch 75/100\n",
            "24/24 [==============================] - 0s 10ms/step - loss: 3.5156e-04 - val_loss: 4.0403e-04\n",
            "Epoch 76/100\n",
            "24/24 [==============================] - 0s 11ms/step - loss: 3.3389e-04 - val_loss: 0.0014\n",
            "Epoch 77/100\n",
            "24/24 [==============================] - 0s 10ms/step - loss: 3.8334e-04 - val_loss: 4.6314e-04\n",
            "Epoch 78/100\n",
            "24/24 [==============================] - 0s 10ms/step - loss: 3.3169e-04 - val_loss: 5.6462e-04\n",
            "Epoch 79/100\n",
            "24/24 [==============================] - 0s 10ms/step - loss: 3.4173e-04 - val_loss: 3.6541e-04\n",
            "Epoch 80/100\n",
            "24/24 [==============================] - 0s 11ms/step - loss: 3.1259e-04 - val_loss: 3.6786e-04\n",
            "Epoch 81/100\n",
            "24/24 [==============================] - 0s 10ms/step - loss: 3.0995e-04 - val_loss: 5.6461e-04\n",
            "Epoch 82/100\n",
            "24/24 [==============================] - 0s 10ms/step - loss: 2.8288e-04 - val_loss: 3.6273e-04\n",
            "Epoch 83/100\n",
            "24/24 [==============================] - 0s 11ms/step - loss: 2.8310e-04 - val_loss: 0.0011\n",
            "Epoch 84/100\n",
            "24/24 [==============================] - 0s 11ms/step - loss: 2.9660e-04 - val_loss: 4.1744e-04\n",
            "Epoch 85/100\n",
            "24/24 [==============================] - 0s 10ms/step - loss: 2.9882e-04 - val_loss: 3.5000e-04\n",
            "Epoch 86/100\n",
            "24/24 [==============================] - 0s 10ms/step - loss: 3.1751e-04 - val_loss: 5.7899e-04\n",
            "Epoch 87/100\n",
            "24/24 [==============================] - 0s 11ms/step - loss: 3.0563e-04 - val_loss: 0.0010\n",
            "Epoch 88/100\n",
            "24/24 [==============================] - 0s 11ms/step - loss: 3.7536e-04 - val_loss: 0.0013\n",
            "Epoch 89/100\n",
            "24/24 [==============================] - 0s 10ms/step - loss: 5.3269e-04 - val_loss: 4.8226e-04\n",
            "Epoch 90/100\n",
            "24/24 [==============================] - 0s 10ms/step - loss: 2.8481e-04 - val_loss: 4.8622e-04\n",
            "Epoch 91/100\n",
            "24/24 [==============================] - 0s 10ms/step - loss: 2.6970e-04 - val_loss: 4.3803e-04\n",
            "Epoch 92/100\n",
            "24/24 [==============================] - 0s 11ms/step - loss: 2.6873e-04 - val_loss: 4.9489e-04\n",
            "Epoch 93/100\n",
            "24/24 [==============================] - 0s 11ms/step - loss: 2.6410e-04 - val_loss: 3.4255e-04\n",
            "Epoch 94/100\n",
            "24/24 [==============================] - 0s 10ms/step - loss: 2.6926e-04 - val_loss: 3.7394e-04\n",
            "Epoch 95/100\n",
            "24/24 [==============================] - 0s 11ms/step - loss: 2.9567e-04 - val_loss: 5.3259e-04\n",
            "Epoch 96/100\n",
            "24/24 [==============================] - 0s 10ms/step - loss: 3.4599e-04 - val_loss: 4.7076e-04\n",
            "Epoch 97/100\n",
            "24/24 [==============================] - 0s 10ms/step - loss: 2.4633e-04 - val_loss: 8.7753e-04\n",
            "Epoch 98/100\n",
            "24/24 [==============================] - 0s 10ms/step - loss: 2.9827e-04 - val_loss: 4.3155e-04\n",
            "Epoch 99/100\n",
            "24/24 [==============================] - 0s 11ms/step - loss: 2.2936e-04 - val_loss: 3.1384e-04\n",
            "Epoch 100/100\n",
            "24/24 [==============================] - 0s 11ms/step - loss: 2.4062e-04 - val_loss: 6.9391e-04\n"
          ],
          "name": "stdout"
        }
      ]
    },
    {
      "cell_type": "code",
      "metadata": {
        "id": "fS6-WlVnWTfG"
      },
      "source": [
        "train_predict = model.predict(X_train)\n",
        "test_predict = model.predict(X_test)\n",
        "\n",
        "##Transformback to original form\n",
        "train_predict = scaler.inverse_transform(train_predict)\n",
        "test_predict = scaler.inverse_transform(test_predict)\n",
        "\n",
        "true = scaler.inverse_transform(scaled_data[training_size:,:1])\n",
        "true = true[time_step:-1]"
      ],
      "execution_count": 127,
      "outputs": []
    },
    {
      "cell_type": "code",
      "metadata": {
        "colab": {
          "base_uri": "https://localhost:8080/"
        },
        "id": "MCYlPuvkCbIL",
        "outputId": "72aad356-e003-4bac-8991-decc21989b0b"
      },
      "source": [
        "len(test_predict)\n",
        "true[:-10]"
      ],
      "execution_count": 145,
      "outputs": [
        {
          "output_type": "execute_result",
          "data": {
            "text/plain": [
              "array([[3092.92993164],\n",
              "       [3146.13989258],\n",
              "       [3094.5300293 ],\n",
              "       [3005.        ],\n",
              "       [2977.57006836],\n",
              "       [3000.45996094],\n",
              "       [2951.94995117],\n",
              "       [3062.85009766],\n",
              "       [3057.63989258],\n",
              "       [3113.59008789],\n",
              "       [3089.48999023],\n",
              "       [3081.67993164],\n",
              "       [3091.86010742],\n",
              "       [3135.72998047],\n",
              "       [3027.98999023],\n",
              "       [3074.95996094],\n",
              "       [3110.87011719]])"
            ]
          },
          "metadata": {
            "tags": []
          },
          "execution_count": 145
        }
      ]
    },
    {
      "cell_type": "code",
      "metadata": {
        "colab": {
          "base_uri": "https://localhost:8080/",
          "height": 594
        },
        "id": "dRwvCRqQWTjA",
        "outputId": "b43ed3f6-3751-4de6-eced-95ac21a96d53"
      },
      "source": [
        "figure(figsize=(16, 9), dpi=80)\n",
        "plt.plot(test_predict, label = \"Predict\")\n",
        "plt.plot(true[-10:], label = \"true\")\n",
        "plt.legend()\n",
        "plt.show()"
      ],
      "execution_count": 146,
      "outputs": [
        {
          "output_type": "display_data",
          "data": {
            "image/png": "[encoded data removed]",
            "text/plain": [
              "<Figure size 1280x720 with 1 Axes>"
            ]
          },
          "metadata": {
            "tags": [],
            "needs_background": "light"
          }
        }
      ]
    },
    {
      "cell_type": "code",
      "metadata": {
        "id": "eCRUA44lYAgX"
      },
      "source": [
        "true_list = []\n",
        "pred = []\n",
        "for i in range(len(test_predict)):\n",
        "  pred.append(test_predict[i][0])\n",
        "  true_list.append(true[i][0])"
      ],
      "execution_count": 129,
      "outputs": []
    },
    {
      "cell_type": "code",
      "metadata": {
        "colab": {
          "base_uri": "https://localhost:8080/",
          "height": 359
        },
        "id": "OA0UKq0MYpjx",
        "outputId": "6886d4c5-d9cc-4c38-f8db-bdd4a57e77be"
      },
      "source": [
        "df = pd.DataFrame()\n",
        "df[\"ture\"] = true_list\n",
        "df[\"pred\"] = pred\n",
        "df"
      ],
      "execution_count": 130,
      "outputs": [
        {
          "output_type": "execute_result",
          "data": {
            "text/html": [
              "<div>\n",
              "<style scoped>\n",
              "    .dataframe tbody tr th:only-of-type {\n",
              "        vertical-align: middle;\n",
              "    }\n",
              "\n",
              "    .dataframe tbody tr th {\n",
              "        vertical-align: top;\n",
              "    }\n",
              "\n",
              "    .dataframe thead th {\n",
              "        text-align: right;\n",
              "    }\n",
              "</style>\n",
              "<table border=\"1\" class=\"dataframe\">\n",
              "  <thead>\n",
              "    <tr style=\"text-align: right;\">\n",
              "      <th></th>\n",
              "      <th>ture</th>\n",
              "      <th>pred</th>\n",
              "    </tr>\n",
              "  </thead>\n",
              "  <tbody>\n",
              "    <tr>\n",
              "      <th>0</th>\n",
              "      <td>3092.929932</td>\n",
              "      <td>3051.669434</td>\n",
              "    </tr>\n",
              "    <tr>\n",
              "      <th>1</th>\n",
              "      <td>3146.139893</td>\n",
              "      <td>3060.369629</td>\n",
              "    </tr>\n",
              "    <tr>\n",
              "      <th>2</th>\n",
              "      <td>3094.530029</td>\n",
              "      <td>3063.983643</td>\n",
              "    </tr>\n",
              "    <tr>\n",
              "      <th>3</th>\n",
              "      <td>3005.000000</td>\n",
              "      <td>3054.110596</td>\n",
              "    </tr>\n",
              "    <tr>\n",
              "      <th>4</th>\n",
              "      <td>2977.570068</td>\n",
              "      <td>3039.895996</td>\n",
              "    </tr>\n",
              "    <tr>\n",
              "      <th>5</th>\n",
              "      <td>3000.459961</td>\n",
              "      <td>3032.582520</td>\n",
              "    </tr>\n",
              "    <tr>\n",
              "      <th>6</th>\n",
              "      <td>2951.949951</td>\n",
              "      <td>3027.433105</td>\n",
              "    </tr>\n",
              "    <tr>\n",
              "      <th>7</th>\n",
              "      <td>3062.850098</td>\n",
              "      <td>3033.354004</td>\n",
              "    </tr>\n",
              "    <tr>\n",
              "      <th>8</th>\n",
              "      <td>3057.639893</td>\n",
              "      <td>3059.246582</td>\n",
              "    </tr>\n",
              "    <tr>\n",
              "      <th>9</th>\n",
              "      <td>3113.590088</td>\n",
              "      <td>3105.236572</td>\n",
              "    </tr>\n",
              "  </tbody>\n",
              "</table>\n",
              "</div>"
            ],
            "text/plain": [
              "          ture         pred\n",
              "0  3092.929932  3051.669434\n",
              "1  3146.139893  3060.369629\n",
              "2  3094.530029  3063.983643\n",
              "3  3005.000000  3054.110596\n",
              "4  2977.570068  3039.895996\n",
              "5  3000.459961  3032.582520\n",
              "6  2951.949951  3027.433105\n",
              "7  3062.850098  3033.354004\n",
              "8  3057.639893  3059.246582\n",
              "9  3113.590088  3105.236572"
            ]
          },
          "metadata": {
            "tags": []
          },
          "execution_count": 130
        }
      ]
    },
    {
      "cell_type": "code",
      "metadata": {
        "colab": {
          "base_uri": "https://localhost:8080/"
        },
        "id": "wfKZ_5vQeCfc",
        "outputId": "7af9a5e2-7eeb-4ce5-b109-80a22bb2ed0a"
      },
      "source": [
        "ret = df.pct_change().iloc[1:,0]\n",
        "\n",
        "ret_list = [0]\n",
        "for el in ret:\n",
        "  ret_list.append(el)\n",
        "len(ret_list)"
      ],
      "execution_count": 131,
      "outputs": [
        {
          "output_type": "execute_result",
          "data": {
            "text/plain": [
              "10"
            ]
          },
          "metadata": {
            "tags": []
          },
          "execution_count": 131
        }
      ]
    },
    {
      "cell_type": "code",
      "metadata": {
        "id": "lVE2lMCRplJ1"
      },
      "source": [
        "ret_strat = [0]\n",
        "for i in range(len(ret)):\n",
        "  if pred[i+1] > pred[i]:\n",
        "    ret_strat.append(ret.iloc[i])\n",
        "  else:\n",
        "    ret_strat.append(0)"
      ],
      "execution_count": 132,
      "outputs": []
    },
    {
      "cell_type": "code",
      "metadata": {
        "colab": {
          "base_uri": "https://localhost:8080/",
          "height": 596
        },
        "id": "wvQ1PtzcqRN5",
        "outputId": "a66b450d-42c5-4cbb-9593-44a687b0528c"
      },
      "source": [
        "figure(figsize=(16, 9), dpi=80)\n",
        "plt.plot((np.array(ret_list)+1).cumprod(), label = \"true\")\n",
        "\n",
        "to_plot = (np.array(ret_strat)+1).cumprod()\n",
        "\n",
        "plt.plot(to_plot, label= \"strategy\", alpha = 0.5)\n",
        "plt.legend()\n",
        "plt.show()"
      ],
      "execution_count": 133,
      "outputs": [
        {
          "output_type": "display_data",
          "data": {
            "image/png": "[encoded data removed]",
            "text/plain": [
              "<Figure size 1280x720 with 1 Axes>"
            ]
          },
          "metadata": {
            "tags": [],
            "needs_background": "light"
          }
        }
      ]
    },
    {
      "cell_type": "code",
      "metadata": {
        "colab": {
          "base_uri": "https://localhost:8080/"
        },
        "id": "DDyyRUkMFLJO",
        "outputId": "22998c35-90ee-4c30-9627-bf7d601e920b"
      },
      "source": [
        "print(\"Sharpe LSTM strategy:\")\n",
        "np.array(ret_strat).mean() / np.array(ret_strat).std()"
      ],
      "execution_count": 134,
      "outputs": [
        {
          "output_type": "stream",
          "text": [
            "Sharpe LSTM strategy:\n"
          ],
          "name": "stdout"
        },
        {
          "output_type": "execute_result",
          "data": {
            "text/plain": [
              "0.3874971653381007"
            ]
          },
          "metadata": {
            "tags": []
          },
          "execution_count": 134
        }
      ]
    },
    {
      "cell_type": "code",
      "metadata": {
        "colab": {
          "base_uri": "https://localhost:8080/"
        },
        "id": "ooi344Y3Jcxq",
        "outputId": "c84c2ca7-5cfc-4b20-e8c2-6d11892eed68"
      },
      "source": [
        "print(\"Sharpe buy and hold:\")\n",
        "np.array(ret_list).mean() / np.array(ret_list).std()"
      ],
      "execution_count": 135,
      "outputs": [
        {
          "output_type": "stream",
          "text": [
            "Sharpe buy and hold:\n"
          ],
          "name": "stdout"
        },
        {
          "output_type": "execute_result",
          "data": {
            "text/plain": [
              "0.04473092111964894"
            ]
          },
          "metadata": {
            "tags": []
          },
          "execution_count": 135
        }
      ]
    },
    {
      "cell_type": "code",
      "metadata": {
        "id": "hxO16w9JK6nI"
      },
      "source": [
        ""
      ],
      "execution_count": null,
      "outputs": []
    }
  ]
}