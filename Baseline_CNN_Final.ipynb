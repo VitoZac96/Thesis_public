{
  "nbformat": 4,
  "nbformat_minor": 0,
  "metadata": {
    "colab": {
      "name": "Baseline_CNN_Final.ipynb",
      "provenance": [],
      "authorship_tag": "ABX9TyO3f+8eIcWOZ267Q+5E8YYv",
      "include_colab_link": true
    },
    "kernelspec": {
      "name": "python3",
      "display_name": "Python 3"
    },
    "language_info": {
      "name": "python"
    }
  },
  "cells": [
    {
      "cell_type": "markdown",
      "metadata": {
        "id": "view-in-github",
        "colab_type": "text"
      },
      "source": [
        "<a href=\"https://colab.research.google.com/github/VitoZac96/Thesis_public/blob/main/Baseline_CNN_Final.ipynb\" target=\"_parent\"><img src=\"https://colab.research.google.com/assets/colab-badge.svg\" alt=\"Open In Colab\"/></a>"
      ]
    },
    {
      "cell_type": "code",
      "metadata": {
        "id": "O_aJmx-meYSP"
      },
      "source": [
        "import numpy as np\n",
        "from numpy import array\n",
        "from numpy import hstack\n",
        "\n",
        "import pandas as pd\n",
        "import matplotlib.pyplot as plt\n",
        "from matplotlib.pyplot import figure\n",
        "from tensorflow import keras\n",
        "\n",
        "\n",
        "from numpy import array\n",
        "from keras.models import Sequential\n",
        "from keras.layers import Dense\n",
        "from keras.layers import Flatten\n",
        "from keras.layers.convolutional import Conv1D\n",
        "from keras.layers.convolutional import MaxPooling1D\n",
        "from keras.callbacks import EarlyStopping\n",
        "\n",
        "from keras.layers import Dropout"
      ],
      "execution_count": 5,
      "outputs": []
    },
    {
      "cell_type": "markdown",
      "metadata": {
        "id": "jWH9NZ8UyJfl"
      },
      "source": [
        "#Logica del dataset: \n",
        " \n",
        "\n",
        "1.   Ogni colonna corrisponde a una stock.\n",
        "2.   Ogni riga è il prezzo di chiusura osservato per quella stock.\n",
        "3.   L'ultima colonna è il target da predire. (vedi funzione split_sequences)"
      ]
    },
    {
      "cell_type": "code",
      "metadata": {
        "id": "mkAyxulciEVO"
      },
      "source": [
        "in_seq1 = array([10, 20, 30, 40, 50, 60, 70, 80, 90])\n",
        "in_seq2 = array([15, 25, 35, 45, 55, 65, 75, 85, 95])\n",
        "out_seq = array([in_seq1[i]+in_seq2[i] for i in range(len(in_seq1))])\n",
        "\n",
        "# convert to [rows, columns] structure\n",
        "in_seq1 = in_seq1.reshape((len(in_seq1), 1))\n",
        "in_seq2 = in_seq2.reshape((len(in_seq2), 1))\n",
        "out_seq = out_seq.reshape((len(out_seq), 1))\n",
        "# horizontally stack columns\n",
        "dataset = hstack((in_seq1, in_seq2, out_seq))"
      ],
      "execution_count": 147,
      "outputs": []
    },
    {
      "cell_type": "code",
      "metadata": {
        "id": "f-xPOEt2l25M"
      },
      "source": [
        "# split a multivariate sequence into samples\n",
        "def split_sequences(sequences, n_steps):\n",
        "\tX, y = list(), list()\n",
        "\tfor i in range(len(sequences)):\n",
        "\t\t# find the end of this pattern\n",
        "\t\tend_ix = i + n_steps\n",
        "\t\t# check if we are beyond the dataset\n",
        "\t\tif end_ix > len(sequences):\n",
        "\t\t\tbreak\n",
        "\t\t# gather input and output parts of the pattern\n",
        "\t\tseq_x, seq_y = sequences[i:end_ix, :-1], sequences[end_ix-1, -1]\n",
        "\t\tX.append(seq_x)\n",
        "\t\ty.append(seq_y)\n",
        "\treturn array(X), array(y)"
      ],
      "execution_count": 150,
      "outputs": []
    },
    {
      "cell_type": "code",
      "metadata": {
        "colab": {
          "base_uri": "https://localhost:8080/"
        },
        "id": "aUKKDAq5xzQI",
        "outputId": "801fdbc9-e626-407d-b253-6c276e75fbf4"
      },
      "source": [
        "# choose a number of time steps\n",
        "n_steps = 5\n",
        "# convert into input/output\n",
        "X, y = split_sequences(dataset, n_steps)\n",
        "\n",
        "print(X.shape, y.shape)\n",
        "\n",
        "# summarize the data\n",
        "for i in range(len(X)):\n",
        "\tprint(X[i], y[i])\n",
        " \n",
        "n_features = X_train.shape[2]"
      ],
      "execution_count": 151,
      "outputs": [
        {
          "output_type": "stream",
          "text": [
            "(5, 5, 2) (5,)\n",
            "[[10 15]\n",
            " [20 25]\n",
            " [30 35]\n",
            " [40 45]\n",
            " [50 55]] 105\n",
            "[[20 25]\n",
            " [30 35]\n",
            " [40 45]\n",
            " [50 55]\n",
            " [60 65]] 125\n",
            "[[30 35]\n",
            " [40 45]\n",
            " [50 55]\n",
            " [60 65]\n",
            " [70 75]] 145\n",
            "[[40 45]\n",
            " [50 55]\n",
            " [60 65]\n",
            " [70 75]\n",
            " [80 85]] 165\n",
            "[[50 55]\n",
            " [60 65]\n",
            " [70 75]\n",
            " [80 85]\n",
            " [90 95]] 185\n"
          ],
          "name": "stdout"
        }
      ]
    },
    {
      "cell_type": "markdown",
      "metadata": {
        "id": "hmPWX39GzzBJ"
      },
      "source": [
        "#Stessa logica con i miei dati."
      ]
    },
    {
      "cell_type": "code",
      "metadata": {
        "id": "tJCOQD8NlhwY"
      },
      "source": [
        "data = pd.read_excel(\"/content/data_to_train2.xlsx\")\n",
        "data = np.array(data.iloc[:,1:])\n",
        "\n",
        "data = np.hstack((data,data[:,0].reshape((-1,1))))   #Metto nell'ultima colonna il prezzo target di apple"
      ],
      "execution_count": 152,
      "outputs": []
    },
    {
      "cell_type": "markdown",
      "metadata": {
        "id": "GPtlUxU4z_p4"
      },
      "source": [
        "## Train test split\n",
        "In questa fase il test set è usato per validation."
      ]
    },
    {
      "cell_type": "code",
      "metadata": {
        "id": "RfQJDmh6oCoI"
      },
      "source": [
        "train = data[:-26,:]\n",
        "test = data[-26:,:]"
      ],
      "execution_count": 153,
      "outputs": []
    },
    {
      "cell_type": "code",
      "metadata": {
        "colab": {
          "base_uri": "https://localhost:8080/"
        },
        "id": "1WgL9X6jitT2",
        "outputId": "96dd3685-5b76-4e07-e7fa-d6d2a4f6cb0f"
      },
      "source": [
        "# choose a number of time steps\n",
        "n_steps = 5\n",
        "# convert into input/output\n",
        "X_train, y_train = split_sequences(train, n_steps)\n",
        "X_test, y_test = split_sequences(test, n_steps)\n",
        "print(X_train.shape, y_train.shape)\n",
        "\n",
        "# summarize the data\n",
        "#for i in range(1):\n",
        "#\tprint(X[i], y[i])\n",
        " \n",
        "n_features = X_train.shape[2]"
      ],
      "execution_count": 154,
      "outputs": [
        {
          "output_type": "stream",
          "text": [
            "(985, 5, 133) (985,)\n"
          ],
          "name": "stdout"
        }
      ]
    },
    {
      "cell_type": "markdown",
      "metadata": {
        "id": "yGhzFdqK0PJx"
      },
      "source": [
        "# CNN base"
      ]
    },
    {
      "cell_type": "code",
      "metadata": {
        "id": "kxnGz_JejeP3"
      },
      "source": [
        "model = Sequential()\n",
        "model.add(Conv1D(filters=64, kernel_size=2, activation='relu', input_shape=(n_steps, n_features)))\n",
        "model.add(MaxPooling1D(pool_size=2))\n",
        "model.add(Flatten())\n",
        "model.add(Dense(50, activation='relu'))\n",
        "model.add(Dense(1, activation = \"linear\"))\n",
        "model.compile(optimizer='adam', loss='mse')\n",
        "\n",
        "#reduce_lr = keras.callbacks.ReduceLROnPlateau(monitor = 'loss', factor=0.5, patience=50, min_lr=0.0001)\n",
        "es = EarlyStopping(monitor='val_loss', mode='max', patience = 650, restore_best_weights=False)\n",
        "\n",
        "# fit model: molte epochs e patience perché spesso migliora dopo molto\n",
        "history = model.fit(X_train, y_train, epochs=1000, verbose=1, validation_data=(X_test,y_test), callbacks=[es])"
      ],
      "execution_count": null,
      "outputs": []
    },
    {
      "cell_type": "code",
      "metadata": {
        "colab": {
          "base_uri": "https://localhost:8080/",
          "height": 444
        },
        "id": "oq03cCLzsF1Z",
        "outputId": "a120daf6-207b-46dd-82e1-5ea4e0c78f7f"
      },
      "source": [
        "figure(figsize=(8, 6), dpi=80)\n",
        "plt.plot(history.history['loss'][100:])\n",
        "plt.plot(history.history['val_loss'][100:])\n",
        "plt.title('model loss')\n",
        "plt.ylabel('loss')\n",
        "plt.xlabel('epoch')\n",
        "plt.legend(['train', 'test'], loc='upper left')\n",
        "plt.show()"
      ],
      "execution_count": 160,
      "outputs": [
        {
          "output_type": "display_data",
          "data": {
            "image/png": "[encoded data removed]",
            "text/plain": [
              "<Figure size 640x480 with 1 Axes>"
            ]
          },
          "metadata": {
            "tags": [],
            "needs_background": "light"
          }
        }
      ]
    },
    {
      "cell_type": "code",
      "metadata": {
        "colab": {
          "base_uri": "https://localhost:8080/"
        },
        "id": "ZBE8lYkVkKJ5",
        "outputId": "c71fe4b3-135b-46f6-c18b-4c856a4b53e8"
      },
      "source": [
        "# demonstrate prediction\n",
        "#x_input = array([[80, 85], [90, 95], [100, 105]])\n",
        "#x_input = x_input.reshape((1, n_steps, n_features))\n",
        "yhat = model.predict(X_test, verbose=0)\n",
        "print(yhat)"
      ],
      "execution_count": 161,
      "outputs": [
        {
          "output_type": "stream",
          "text": [
            "WARNING:tensorflow:10 out of the last 41 calls to <function Model.make_predict_function.<locals>.predict_function at 0x7f57562a7560> triggered tf.function retracing. Tracing is expensive and the excessive number of tracings could be due to (1) creating @tf.function repeatedly in a loop, (2) passing tensors with different shapes, (3) passing Python objects instead of tensors. For (1), please define your @tf.function outside of the loop. For (2), @tf.function has experimental_relax_shapes=True option that relaxes argument shapes that can avoid unnecessary retracing. For (3), please refer to https://www.tensorflow.org/guide/function#controlling_retracing and https://www.tensorflow.org/api_docs/python/tf/function for  more details.\n",
            "[[130.6247 ]\n",
            " [135.18369]\n",
            " [140.13347]\n",
            " [138.63458]\n",
            " [135.6356 ]\n",
            " [133.55641]\n",
            " [133.0041 ]\n",
            " [135.36636]\n",
            " [141.83821]\n",
            " [142.40996]\n",
            " [136.15794]\n",
            " [128.46361]\n",
            " [134.23874]\n",
            " [132.92352]\n",
            " [133.42809]\n",
            " [133.34108]\n",
            " [131.42519]\n",
            " [130.38062]\n",
            " [120.7681 ]\n",
            " [124.5327 ]\n",
            " [121.44641]\n",
            " [121.27733]]\n"
          ],
          "name": "stdout"
        }
      ]
    },
    {
      "cell_type": "code",
      "metadata": {
        "colab": {
          "base_uri": "https://localhost:8080/",
          "height": 413
        },
        "id": "uEWGlLSIo3bS",
        "outputId": "c26270b6-5938-4da1-b671-52a90d8fc60f"
      },
      "source": [
        "figure(figsize=(8, 6), dpi=80)\n",
        "\n",
        "plt.plot(yhat, label = \"Predict\")\n",
        "plt.plot(y_test, label = \"True\")\n",
        "plt.legend()\n",
        "plt.show()"
      ],
      "execution_count": 162,
      "outputs": [
        {
          "output_type": "display_data",
          "data": {
            "image/png": "[encoded data removed]",
            "text/plain": [
              "<Figure size 640x480 with 1 Axes>"
            ]
          },
          "metadata": {
            "tags": [],
            "needs_background": "light"
          }
        }
      ]
    },
    {
      "cell_type": "code",
      "metadata": {
        "id": "83MsISq7o4-h"
      },
      "source": [
        ""
      ],
      "execution_count": 164,
      "outputs": []
    },
    {
      "cell_type": "code",
      "metadata": {
        "id": "hcFWkEgy1CmB"
      },
      "source": [
        ""
      ],
      "execution_count": null,
      "outputs": []
    }
  ]
}